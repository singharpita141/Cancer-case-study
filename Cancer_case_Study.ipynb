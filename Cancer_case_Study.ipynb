{
 "cells": [
  {
   "cell_type": "code",
   "execution_count": 16,
   "metadata": {},
   "outputs": [],
   "source": [
    "import pandas as pd\n",
    "import numpy as np\n",
    "df = pd.read_csv('cancer_reg.csv',encoding=\"ISO-8859-1\")"
   ]
  },
  {
   "cell_type": "code",
   "execution_count": 17,
   "metadata": {},
   "outputs": [
    {
     "data": {
      "text/html": [
       "<div>\n",
       "<style scoped>\n",
       "    .dataframe tbody tr th:only-of-type {\n",
       "        vertical-align: middle;\n",
       "    }\n",
       "\n",
       "    .dataframe tbody tr th {\n",
       "        vertical-align: top;\n",
       "    }\n",
       "\n",
       "    .dataframe thead th {\n",
       "        text-align: right;\n",
       "    }\n",
       "</style>\n",
       "<table border=\"1\" class=\"dataframe\">\n",
       "  <thead>\n",
       "    <tr style=\"text-align: right;\">\n",
       "      <th></th>\n",
       "      <th>avgAnnCount</th>\n",
       "      <th>avgDeathsPerYear</th>\n",
       "      <th>TARGET_deathRate</th>\n",
       "      <th>incidenceRate</th>\n",
       "      <th>medIncome</th>\n",
       "      <th>popEst2015</th>\n",
       "      <th>povertyPercent</th>\n",
       "      <th>studyPerCap</th>\n",
       "      <th>binnedInc</th>\n",
       "      <th>MedianAge</th>\n",
       "      <th>...</th>\n",
       "      <th>PctPrivateCoverageAlone</th>\n",
       "      <th>PctEmpPrivCoverage</th>\n",
       "      <th>PctPublicCoverage</th>\n",
       "      <th>PctPublicCoverageAlone</th>\n",
       "      <th>PctWhite</th>\n",
       "      <th>PctBlack</th>\n",
       "      <th>PctAsian</th>\n",
       "      <th>PctOtherRace</th>\n",
       "      <th>PctMarriedHouseholds</th>\n",
       "      <th>BirthRate</th>\n",
       "    </tr>\n",
       "  </thead>\n",
       "  <tbody>\n",
       "    <tr>\n",
       "      <th>0</th>\n",
       "      <td>1397.0</td>\n",
       "      <td>469</td>\n",
       "      <td>164.9</td>\n",
       "      <td>489.8</td>\n",
       "      <td>61898</td>\n",
       "      <td>260131</td>\n",
       "      <td>11.2</td>\n",
       "      <td>499.748204</td>\n",
       "      <td>(61494.5, 125635]</td>\n",
       "      <td>39.3</td>\n",
       "      <td>...</td>\n",
       "      <td>NaN</td>\n",
       "      <td>41.6</td>\n",
       "      <td>32.9</td>\n",
       "      <td>14.0</td>\n",
       "      <td>81.780529</td>\n",
       "      <td>2.594728</td>\n",
       "      <td>4.821857</td>\n",
       "      <td>1.843479</td>\n",
       "      <td>52.856076</td>\n",
       "      <td>6.118831</td>\n",
       "    </tr>\n",
       "    <tr>\n",
       "      <th>1</th>\n",
       "      <td>173.0</td>\n",
       "      <td>70</td>\n",
       "      <td>161.3</td>\n",
       "      <td>411.6</td>\n",
       "      <td>48127</td>\n",
       "      <td>43269</td>\n",
       "      <td>18.6</td>\n",
       "      <td>23.111234</td>\n",
       "      <td>(48021.6, 51046.4]</td>\n",
       "      <td>33.0</td>\n",
       "      <td>...</td>\n",
       "      <td>53.8</td>\n",
       "      <td>43.6</td>\n",
       "      <td>31.1</td>\n",
       "      <td>15.3</td>\n",
       "      <td>89.228509</td>\n",
       "      <td>0.969102</td>\n",
       "      <td>2.246233</td>\n",
       "      <td>3.741352</td>\n",
       "      <td>45.372500</td>\n",
       "      <td>4.333096</td>\n",
       "    </tr>\n",
       "    <tr>\n",
       "      <th>2</th>\n",
       "      <td>102.0</td>\n",
       "      <td>50</td>\n",
       "      <td>174.7</td>\n",
       "      <td>349.7</td>\n",
       "      <td>49348</td>\n",
       "      <td>21026</td>\n",
       "      <td>14.6</td>\n",
       "      <td>47.560164</td>\n",
       "      <td>(48021.6, 51046.4]</td>\n",
       "      <td>45.0</td>\n",
       "      <td>...</td>\n",
       "      <td>43.5</td>\n",
       "      <td>34.9</td>\n",
       "      <td>42.1</td>\n",
       "      <td>21.1</td>\n",
       "      <td>90.922190</td>\n",
       "      <td>0.739673</td>\n",
       "      <td>0.465898</td>\n",
       "      <td>2.747358</td>\n",
       "      <td>54.444868</td>\n",
       "      <td>3.729488</td>\n",
       "    </tr>\n",
       "    <tr>\n",
       "      <th>3</th>\n",
       "      <td>427.0</td>\n",
       "      <td>202</td>\n",
       "      <td>194.8</td>\n",
       "      <td>430.4</td>\n",
       "      <td>44243</td>\n",
       "      <td>75882</td>\n",
       "      <td>17.1</td>\n",
       "      <td>342.637253</td>\n",
       "      <td>(42724.4, 45201]</td>\n",
       "      <td>42.8</td>\n",
       "      <td>...</td>\n",
       "      <td>40.3</td>\n",
       "      <td>35.0</td>\n",
       "      <td>45.3</td>\n",
       "      <td>25.0</td>\n",
       "      <td>91.744686</td>\n",
       "      <td>0.782626</td>\n",
       "      <td>1.161359</td>\n",
       "      <td>1.362643</td>\n",
       "      <td>51.021514</td>\n",
       "      <td>4.603841</td>\n",
       "    </tr>\n",
       "    <tr>\n",
       "      <th>4</th>\n",
       "      <td>57.0</td>\n",
       "      <td>26</td>\n",
       "      <td>144.4</td>\n",
       "      <td>350.1</td>\n",
       "      <td>49955</td>\n",
       "      <td>10321</td>\n",
       "      <td>12.5</td>\n",
       "      <td>0.000000</td>\n",
       "      <td>(48021.6, 51046.4]</td>\n",
       "      <td>48.3</td>\n",
       "      <td>...</td>\n",
       "      <td>43.9</td>\n",
       "      <td>35.1</td>\n",
       "      <td>44.0</td>\n",
       "      <td>22.7</td>\n",
       "      <td>94.104024</td>\n",
       "      <td>0.270192</td>\n",
       "      <td>0.665830</td>\n",
       "      <td>0.492135</td>\n",
       "      <td>54.027460</td>\n",
       "      <td>6.796657</td>\n",
       "    </tr>\n",
       "  </tbody>\n",
       "</table>\n",
       "<p>5 rows × 34 columns</p>\n",
       "</div>"
      ],
      "text/plain": [
       "   avgAnnCount  avgDeathsPerYear  TARGET_deathRate  incidenceRate  medIncome  \\\n",
       "0       1397.0               469             164.9          489.8      61898   \n",
       "1        173.0                70             161.3          411.6      48127   \n",
       "2        102.0                50             174.7          349.7      49348   \n",
       "3        427.0               202             194.8          430.4      44243   \n",
       "4         57.0                26             144.4          350.1      49955   \n",
       "\n",
       "   popEst2015  povertyPercent  studyPerCap           binnedInc  MedianAge  \\\n",
       "0      260131            11.2   499.748204   (61494.5, 125635]       39.3   \n",
       "1       43269            18.6    23.111234  (48021.6, 51046.4]       33.0   \n",
       "2       21026            14.6    47.560164  (48021.6, 51046.4]       45.0   \n",
       "3       75882            17.1   342.637253    (42724.4, 45201]       42.8   \n",
       "4       10321            12.5     0.000000  (48021.6, 51046.4]       48.3   \n",
       "\n",
       "   ...  PctPrivateCoverageAlone  PctEmpPrivCoverage PctPublicCoverage  \\\n",
       "0  ...                      NaN                41.6              32.9   \n",
       "1  ...                     53.8                43.6              31.1   \n",
       "2  ...                     43.5                34.9              42.1   \n",
       "3  ...                     40.3                35.0              45.3   \n",
       "4  ...                     43.9                35.1              44.0   \n",
       "\n",
       "   PctPublicCoverageAlone   PctWhite  PctBlack  PctAsian  PctOtherRace  \\\n",
       "0                    14.0  81.780529  2.594728  4.821857      1.843479   \n",
       "1                    15.3  89.228509  0.969102  2.246233      3.741352   \n",
       "2                    21.1  90.922190  0.739673  0.465898      2.747358   \n",
       "3                    25.0  91.744686  0.782626  1.161359      1.362643   \n",
       "4                    22.7  94.104024  0.270192  0.665830      0.492135   \n",
       "\n",
       "   PctMarriedHouseholds  BirthRate  \n",
       "0             52.856076   6.118831  \n",
       "1             45.372500   4.333096  \n",
       "2             54.444868   3.729488  \n",
       "3             51.021514   4.603841  \n",
       "4             54.027460   6.796657  \n",
       "\n",
       "[5 rows x 34 columns]"
      ]
     },
     "execution_count": 17,
     "metadata": {},
     "output_type": "execute_result"
    }
   ],
   "source": [
    "df.head()"
   ]
  },
  {
   "cell_type": "code",
   "execution_count": 18,
   "metadata": {},
   "outputs": [
    {
     "name": "stdout",
     "output_type": "stream",
     "text": [
      "<class 'pandas.core.frame.DataFrame'>\n",
      "RangeIndex: 3047 entries, 0 to 3046\n",
      "Data columns (total 34 columns):\n",
      " #   Column                   Non-Null Count  Dtype  \n",
      "---  ------                   --------------  -----  \n",
      " 0   avgAnnCount              3047 non-null   float64\n",
      " 1   avgDeathsPerYear         3047 non-null   int64  \n",
      " 2   TARGET_deathRate         3047 non-null   float64\n",
      " 3   incidenceRate            3047 non-null   float64\n",
      " 4   medIncome                3047 non-null   int64  \n",
      " 5   popEst2015               3047 non-null   int64  \n",
      " 6   povertyPercent           3047 non-null   float64\n",
      " 7   studyPerCap              3047 non-null   float64\n",
      " 8   binnedInc                3047 non-null   object \n",
      " 9   MedianAge                3047 non-null   float64\n",
      " 10  MedianAgeMale            3047 non-null   float64\n",
      " 11  MedianAgeFemale          3047 non-null   float64\n",
      " 12  Geography                3047 non-null   object \n",
      " 13  AvgHouseholdSize         3047 non-null   float64\n",
      " 14  PercentMarried           3047 non-null   float64\n",
      " 15  PctNoHS18_24             3047 non-null   float64\n",
      " 16  PctHS18_24               3047 non-null   float64\n",
      " 17  PctSomeCol18_24          762 non-null    float64\n",
      " 18  PctBachDeg18_24          3047 non-null   float64\n",
      " 19  PctHS25_Over             3047 non-null   float64\n",
      " 20  PctBachDeg25_Over        3047 non-null   float64\n",
      " 21  PctEmployed16_Over       2895 non-null   float64\n",
      " 22  PctUnemployed16_Over     3047 non-null   float64\n",
      " 23  PctPrivateCoverage       3047 non-null   float64\n",
      " 24  PctPrivateCoverageAlone  2438 non-null   float64\n",
      " 25  PctEmpPrivCoverage       3047 non-null   float64\n",
      " 26  PctPublicCoverage        3047 non-null   float64\n",
      " 27  PctPublicCoverageAlone   3047 non-null   float64\n",
      " 28  PctWhite                 3047 non-null   float64\n",
      " 29  PctBlack                 3047 non-null   float64\n",
      " 30  PctAsian                 3047 non-null   float64\n",
      " 31  PctOtherRace             3047 non-null   float64\n",
      " 32  PctMarriedHouseholds     3047 non-null   float64\n",
      " 33  BirthRate                3047 non-null   float64\n",
      "dtypes: float64(29), int64(3), object(2)\n",
      "memory usage: 809.5+ KB\n"
     ]
    }
   ],
   "source": [
    "df.info()"
   ]
  },
  {
   "cell_type": "code",
   "execution_count": 19,
   "metadata": {},
   "outputs": [
    {
     "data": {
      "text/plain": [
       "(3047, 34)"
      ]
     },
     "execution_count": 19,
     "metadata": {},
     "output_type": "execute_result"
    }
   ],
   "source": [
    "df.shape"
   ]
  },
  {
   "cell_type": "code",
   "execution_count": 20,
   "metadata": {},
   "outputs": [
    {
     "data": {
      "text/plain": [
       "Index(['avgAnnCount', 'avgDeathsPerYear', 'TARGET_deathRate', 'incidenceRate',\n",
       "       'medIncome', 'popEst2015', 'povertyPercent', 'studyPerCap', 'binnedInc',\n",
       "       'MedianAge', 'MedianAgeMale', 'MedianAgeFemale', 'Geography',\n",
       "       'AvgHouseholdSize', 'PercentMarried', 'PctNoHS18_24', 'PctHS18_24',\n",
       "       'PctSomeCol18_24', 'PctBachDeg18_24', 'PctHS25_Over',\n",
       "       'PctBachDeg25_Over', 'PctEmployed16_Over', 'PctUnemployed16_Over',\n",
       "       'PctPrivateCoverage', 'PctPrivateCoverageAlone', 'PctEmpPrivCoverage',\n",
       "       'PctPublicCoverage', 'PctPublicCoverageAlone', 'PctWhite', 'PctBlack',\n",
       "       'PctAsian', 'PctOtherRace', 'PctMarriedHouseholds', 'BirthRate'],\n",
       "      dtype='object')"
      ]
     },
     "execution_count": 20,
     "metadata": {},
     "output_type": "execute_result"
    }
   ],
   "source": [
    "df.columns"
   ]
  },
  {
   "cell_type": "code",
   "execution_count": 21,
   "metadata": {},
   "outputs": [],
   "source": [
    "## Data Preprocessing for base modelling."
   ]
  },
  {
   "cell_type": "code",
   "execution_count": 22,
   "metadata": {},
   "outputs": [],
   "source": [
    "# binnedInc: Median income per capita binned by decile\n",
    "\n",
    "d = []\n",
    "\n",
    "for j in range(0, len(df['binnedInc'])):\n",
    "    a = df['binnedInc'][j][1:-1]\n",
    "    b = a.split(',')\n",
    "    sum = 0\n",
    "    for i in range(len(b)):\n",
    "        sum =  sum + float((float(b[i]) - 1))\n",
    "    avg = sum/ len(b)\n",
    "    d.append(avg)\n",
    "\n",
    "df['binnedInc_avg'] = d"
   ]
  },
  {
   "cell_type": "code",
   "execution_count": 23,
   "metadata": {},
   "outputs": [
    {
     "data": {
      "text/plain": [
       "0    93563.75\n",
       "1    49533.00\n",
       "2    49533.00\n",
       "3    43961.70\n",
       "4    49533.00\n",
       "Name: binnedInc_avg, dtype: float64"
      ]
     },
     "execution_count": 23,
     "metadata": {},
     "output_type": "execute_result"
    }
   ],
   "source": [
    "df['binnedInc_avg'].head()"
   ]
  },
  {
   "cell_type": "code",
   "execution_count": 24,
   "metadata": {},
   "outputs": [
    {
     "data": {
      "text/plain": [
       "Index(['avgAnnCount', 'avgDeathsPerYear', 'TARGET_deathRate', 'incidenceRate',\n",
       "       'medIncome', 'popEst2015', 'povertyPercent', 'studyPerCap', 'MedianAge',\n",
       "       'MedianAgeMale', 'MedianAgeFemale', 'Geography', 'AvgHouseholdSize',\n",
       "       'PercentMarried', 'PctNoHS18_24', 'PctHS18_24', 'PctSomeCol18_24',\n",
       "       'PctBachDeg18_24', 'PctHS25_Over', 'PctBachDeg25_Over',\n",
       "       'PctEmployed16_Over', 'PctUnemployed16_Over', 'PctPrivateCoverage',\n",
       "       'PctPrivateCoverageAlone', 'PctEmpPrivCoverage', 'PctPublicCoverage',\n",
       "       'PctPublicCoverageAlone', 'PctWhite', 'PctBlack', 'PctAsian',\n",
       "       'PctOtherRace', 'PctMarriedHouseholds', 'BirthRate', 'binnedInc_avg'],\n",
       "      dtype='object')"
      ]
     },
     "execution_count": 24,
     "metadata": {},
     "output_type": "execute_result"
    }
   ],
   "source": [
    "df = df.drop('binnedInc', axis=1)\n",
    "df.columns"
   ]
  },
  {
   "cell_type": "code",
   "execution_count": 25,
   "metadata": {},
   "outputs": [
    {
     "data": {
      "text/plain": [
       "3047"
      ]
     },
     "execution_count": 25,
     "metadata": {},
     "output_type": "execute_result"
    }
   ],
   "source": [
    "# Geography: County name \n",
    "# These are all string. Let's see if all the values are unique or all are different\n",
    "\n",
    "df['Geography'].nunique()\n",
    "\n",
    "# df['Geography'].nunique() = df.shape for rows. So, it's not worth taking as all the rows will have a unique identity with it."
   ]
  },
  {
   "cell_type": "code",
   "execution_count": 26,
   "metadata": {},
   "outputs": [
    {
     "data": {
      "text/plain": [
       "Index(['avgAnnCount', 'avgDeathsPerYear', 'TARGET_deathRate', 'incidenceRate',\n",
       "       'medIncome', 'popEst2015', 'povertyPercent', 'studyPerCap', 'MedianAge',\n",
       "       'MedianAgeMale', 'MedianAgeFemale', 'AvgHouseholdSize',\n",
       "       'PercentMarried', 'PctNoHS18_24', 'PctHS18_24', 'PctSomeCol18_24',\n",
       "       'PctBachDeg18_24', 'PctHS25_Over', 'PctBachDeg25_Over',\n",
       "       'PctEmployed16_Over', 'PctUnemployed16_Over', 'PctPrivateCoverage',\n",
       "       'PctPrivateCoverageAlone', 'PctEmpPrivCoverage', 'PctPublicCoverage',\n",
       "       'PctPublicCoverageAlone', 'PctWhite', 'PctBlack', 'PctAsian',\n",
       "       'PctOtherRace', 'PctMarriedHouseholds', 'BirthRate', 'binnedInc_avg'],\n",
       "      dtype='object')"
      ]
     },
     "execution_count": 26,
     "metadata": {},
     "output_type": "execute_result"
    }
   ],
   "source": [
    "df = df.drop('Geography', axis=1)\n",
    "df.columns"
   ]
  },
  {
   "cell_type": "code",
   "execution_count": 27,
   "metadata": {},
   "outputs": [
    {
     "name": "stdout",
     "output_type": "stream",
     "text": [
      "PctSomeCol18_24            2285\n",
      "PctEmployed16_Over          152\n",
      "PctPrivateCoverageAlone     609\n",
      "dtype: int64\n",
      "Shape of dataframe:  (3047, 33)\n"
     ]
    }
   ],
   "source": [
    "## Now we need to remove the null values to make our base OLS model. Other wise we won't be able to make our model\n",
    "\n",
    "## Complete info about null values.\n",
    "\n",
    "null_columns=df.columns[df.isnull().any()]\n",
    "print(df[null_columns].isnull().sum())\n",
    "print('Shape of dataframe: ',df.shape)"
   ]
  },
  {
   "cell_type": "code",
   "execution_count": 28,
   "metadata": {},
   "outputs": [],
   "source": [
    "## There are 2285 null values out of 3047 data points so it is not feasible to replace these null values.\n",
    "## We can drop these.\n",
    "\n",
    "df = df.drop('PctSomeCol18_24', axis=1)\n"
   ]
  },
  {
   "cell_type": "code",
   "execution_count": 29,
   "metadata": {},
   "outputs": [
    {
     "name": "stdout",
     "output_type": "stream",
     "text": [
      "percentage of Null values in PctEmployed16_Over :  4.98851329176239\n",
      "percentage of Null values in PctPrivateCoverageAlone :  19.986872333442733\n"
     ]
    }
   ],
   "source": [
    "# PctEmployed16_Over: Percent of county residents ages 16 and over employed\n",
    "# PctPrivateCoverageAlone: Percent of county residents with private health coverage alone (no public assistance)\n",
    "\n",
    "print('percentage of Null values in PctEmployed16_Over : ', (152/3047)*100 )\n",
    "print('percentage of Null values in PctPrivateCoverageAlone : ', (609/3047)*100 )"
   ]
  },
  {
   "cell_type": "code",
   "execution_count": 79,
   "metadata": {},
   "outputs": [],
   "source": [
    "## These are very low percentage of null values we can easily replace them with predicted values.\n",
    "## For making base model we will drop the null values and then we will make the base model. Because we don't wasnt to do."
   ]
  },
  {
   "cell_type": "code",
   "execution_count": 11,
   "metadata": {},
   "outputs": [],
   "source": [
    "df['PctPrivateCoverageAlone']=df['PctPrivateCoverageAlone'].fillna(df['PctPrivateCoverageAlone'].median())"
   ]
  },
  {
   "cell_type": "code",
   "execution_count": 32,
   "metadata": {},
   "outputs": [
    {
     "data": {
      "text/html": [
       "<table class=\"simpletable\">\n",
       "<caption>OLS Regression Results</caption>\n",
       "<tr>\n",
       "  <th>Dep. Variable:</th>    <td>TARGET_deathRate</td> <th>  R-squared:         </th> <td>   0.519</td> \n",
       "</tr>\n",
       "<tr>\n",
       "  <th>Model:</th>                   <td>OLS</td>       <th>  Adj. R-squared:    </th> <td>   0.514</td> \n",
       "</tr>\n",
       "<tr>\n",
       "  <th>Method:</th>             <td>Least Squares</td>  <th>  F-statistic:       </th> <td>   112.1</td> \n",
       "</tr>\n",
       "<tr>\n",
       "  <th>Date:</th>             <td>Sun, 30 Aug 2020</td> <th>  Prob (F-statistic):</th>  <td>  0.00</td>  \n",
       "</tr>\n",
       "<tr>\n",
       "  <th>Time:</th>                 <td>16:42:14</td>     <th>  Log-Likelihood:    </th> <td> -13335.</td> \n",
       "</tr>\n",
       "<tr>\n",
       "  <th>No. Observations:</th>      <td>  3047</td>      <th>  AIC:               </th> <td>2.673e+04</td>\n",
       "</tr>\n",
       "<tr>\n",
       "  <th>Df Residuals:</th>          <td>  3017</td>      <th>  BIC:               </th> <td>2.691e+04</td>\n",
       "</tr>\n",
       "<tr>\n",
       "  <th>Df Model:</th>              <td>    29</td>      <th>                     </th>     <td> </td>    \n",
       "</tr>\n",
       "<tr>\n",
       "  <th>Covariance Type:</th>      <td>nonrobust</td>    <th>                     </th>     <td> </td>    \n",
       "</tr>\n",
       "</table>\n",
       "<table class=\"simpletable\">\n",
       "<tr>\n",
       "             <td></td>               <th>coef</th>     <th>std err</th>      <th>t</th>      <th>P>|t|</th>  <th>[0.025</th>    <th>0.975]</th>  \n",
       "</tr>\n",
       "<tr>\n",
       "  <th>const</th>                  <td>  121.3633</td> <td>   13.193</td> <td>    9.199</td> <td> 0.000</td> <td>   95.496</td> <td>  147.231</td>\n",
       "</tr>\n",
       "<tr>\n",
       "  <th>avgAnnCount</th>            <td>   -0.0036</td> <td>    0.001</td> <td>   -4.618</td> <td> 0.000</td> <td>   -0.005</td> <td>   -0.002</td>\n",
       "</tr>\n",
       "<tr>\n",
       "  <th>avgDeathsPerYear</th>       <td>    0.0191</td> <td>    0.004</td> <td>    4.892</td> <td> 0.000</td> <td>    0.011</td> <td>    0.027</td>\n",
       "</tr>\n",
       "<tr>\n",
       "  <th>incidenceRate</th>          <td>    0.1926</td> <td>    0.007</td> <td>   26.626</td> <td> 0.000</td> <td>    0.178</td> <td>    0.207</td>\n",
       "</tr>\n",
       "<tr>\n",
       "  <th>medIncome</th>              <td> 8.742e-05</td> <td>    0.000</td> <td>    0.802</td> <td> 0.422</td> <td>   -0.000</td> <td>    0.000</td>\n",
       "</tr>\n",
       "<tr>\n",
       "  <th>popEst2015</th>             <td>-1.616e-05</td> <td> 5.48e-06</td> <td>   -2.952</td> <td> 0.003</td> <td>-2.69e-05</td> <td>-5.43e-06</td>\n",
       "</tr>\n",
       "<tr>\n",
       "  <th>povertyPercent</th>         <td>    0.6326</td> <td>    0.154</td> <td>    4.116</td> <td> 0.000</td> <td>    0.331</td> <td>    0.934</td>\n",
       "</tr>\n",
       "<tr>\n",
       "  <th>studyPerCap</th>            <td>-7.683e-05</td> <td>    0.001</td> <td>   -0.113</td> <td> 0.910</td> <td>   -0.001</td> <td>    0.001</td>\n",
       "</tr>\n",
       "<tr>\n",
       "  <th>MedianAge</th>              <td>   -0.0029</td> <td>    0.008</td> <td>   -0.376</td> <td> 0.707</td> <td>   -0.018</td> <td>    0.012</td>\n",
       "</tr>\n",
       "<tr>\n",
       "  <th>MedianAgeMale</th>          <td>   -0.4983</td> <td>    0.208</td> <td>   -2.392</td> <td> 0.017</td> <td>   -0.907</td> <td>   -0.090</td>\n",
       "</tr>\n",
       "<tr>\n",
       "  <th>MedianAgeFemale</th>        <td>    0.0301</td> <td>    0.215</td> <td>    0.140</td> <td> 0.889</td> <td>   -0.392</td> <td>    0.452</td>\n",
       "</tr>\n",
       "<tr>\n",
       "  <th>AvgHouseholdSize</th>       <td>    0.4754</td> <td>    0.958</td> <td>    0.496</td> <td> 0.620</td> <td>   -1.403</td> <td>    2.354</td>\n",
       "</tr>\n",
       "<tr>\n",
       "  <th>PercentMarried</th>         <td>    0.8943</td> <td>    0.147</td> <td>    6.085</td> <td> 0.000</td> <td>    0.606</td> <td>    1.182</td>\n",
       "</tr>\n",
       "<tr>\n",
       "  <th>PctNoHS18_24</th>           <td>   -0.1228</td> <td>    0.056</td> <td>   -2.193</td> <td> 0.028</td> <td>   -0.233</td> <td>   -0.013</td>\n",
       "</tr>\n",
       "<tr>\n",
       "  <th>PctHS18_24</th>             <td>    0.2408</td> <td>    0.049</td> <td>    4.895</td> <td> 0.000</td> <td>    0.144</td> <td>    0.337</td>\n",
       "</tr>\n",
       "<tr>\n",
       "  <th>PctBachDeg18_24</th>        <td>   -0.0970</td> <td>    0.108</td> <td>   -0.894</td> <td> 0.371</td> <td>   -0.310</td> <td>    0.116</td>\n",
       "</tr>\n",
       "<tr>\n",
       "  <th>PctHS25_Over</th>           <td>    0.3860</td> <td>    0.097</td> <td>    3.995</td> <td> 0.000</td> <td>    0.197</td> <td>    0.576</td>\n",
       "</tr>\n",
       "<tr>\n",
       "  <th>PctBachDeg25_Over</th>      <td>   -1.2507</td> <td>    0.154</td> <td>   -8.139</td> <td> 0.000</td> <td>   -1.552</td> <td>   -0.949</td>\n",
       "</tr>\n",
       "<tr>\n",
       "  <th>PctUnemployed16_Over</th>   <td>    0.3636</td> <td>    0.161</td> <td>    2.263</td> <td> 0.024</td> <td>    0.049</td> <td>    0.679</td>\n",
       "</tr>\n",
       "<tr>\n",
       "  <th>PctPrivateCoverage</th>     <td>   -0.4744</td> <td>    0.131</td> <td>   -3.622</td> <td> 0.000</td> <td>   -0.731</td> <td>   -0.218</td>\n",
       "</tr>\n",
       "<tr>\n",
       "  <th>PctEmpPrivCoverage</th>     <td>    0.3039</td> <td>    0.103</td> <td>    2.951</td> <td> 0.003</td> <td>    0.102</td> <td>    0.506</td>\n",
       "</tr>\n",
       "<tr>\n",
       "  <th>PctPublicCoverage</th>      <td>    0.0152</td> <td>    0.217</td> <td>    0.070</td> <td> 0.944</td> <td>   -0.411</td> <td>    0.442</td>\n",
       "</tr>\n",
       "<tr>\n",
       "  <th>PctPublicCoverageAlone</th> <td>    0.0901</td> <td>    0.274</td> <td>    0.328</td> <td> 0.743</td> <td>   -0.448</td> <td>    0.628</td>\n",
       "</tr>\n",
       "<tr>\n",
       "  <th>PctWhite</th>               <td>   -0.1114</td> <td>    0.057</td> <td>   -1.947</td> <td> 0.052</td> <td>   -0.224</td> <td>    0.001</td>\n",
       "</tr>\n",
       "<tr>\n",
       "  <th>PctBlack</th>               <td>   -0.0401</td> <td>    0.055</td> <td>   -0.724</td> <td> 0.469</td> <td>   -0.149</td> <td>    0.069</td>\n",
       "</tr>\n",
       "<tr>\n",
       "  <th>PctAsian</th>               <td>    0.0257</td> <td>    0.189</td> <td>    0.136</td> <td> 0.892</td> <td>   -0.344</td> <td>    0.395</td>\n",
       "</tr>\n",
       "<tr>\n",
       "  <th>PctOtherRace</th>           <td>   -0.8940</td> <td>    0.124</td> <td>   -7.196</td> <td> 0.000</td> <td>   -1.138</td> <td>   -0.650</td>\n",
       "</tr>\n",
       "<tr>\n",
       "  <th>PctMarriedHouseholds</th>   <td>   -0.9003</td> <td>    0.140</td> <td>   -6.436</td> <td> 0.000</td> <td>   -1.175</td> <td>   -0.626</td>\n",
       "</tr>\n",
       "<tr>\n",
       "  <th>BirthRate</th>              <td>   -0.9204</td> <td>    0.193</td> <td>   -4.764</td> <td> 0.000</td> <td>   -1.299</td> <td>   -0.542</td>\n",
       "</tr>\n",
       "<tr>\n",
       "  <th>binnedInc_avg</th>          <td> 1.614e-05</td> <td> 5.64e-05</td> <td>    0.286</td> <td> 0.775</td> <td>-9.45e-05</td> <td>    0.000</td>\n",
       "</tr>\n",
       "</table>\n",
       "<table class=\"simpletable\">\n",
       "<tr>\n",
       "  <th>Omnibus:</th>       <td>201.055</td> <th>  Durbin-Watson:     </th> <td>   1.770</td> \n",
       "</tr>\n",
       "<tr>\n",
       "  <th>Prob(Omnibus):</th> <td> 0.000</td>  <th>  Jarque-Bera (JB):  </th> <td> 839.917</td> \n",
       "</tr>\n",
       "<tr>\n",
       "  <th>Skew:</th>          <td> 0.167</td>  <th>  Prob(JB):          </th> <td>4.12e-183</td>\n",
       "</tr>\n",
       "<tr>\n",
       "  <th>Kurtosis:</th>      <td> 5.550</td>  <th>  Cond. No.          </th> <td>1.30e+07</td> \n",
       "</tr>\n",
       "</table><br/><br/>Warnings:<br/>[1] Standard Errors assume that the covariance matrix of the errors is correctly specified.<br/>[2] The condition number is large, 1.3e+07. This might indicate that there are<br/>strong multicollinearity or other numerical problems."
      ],
      "text/plain": [
       "<class 'statsmodels.iolib.summary.Summary'>\n",
       "\"\"\"\n",
       "                            OLS Regression Results                            \n",
       "==============================================================================\n",
       "Dep. Variable:       TARGET_deathRate   R-squared:                       0.519\n",
       "Model:                            OLS   Adj. R-squared:                  0.514\n",
       "Method:                 Least Squares   F-statistic:                     112.1\n",
       "Date:                Sun, 30 Aug 2020   Prob (F-statistic):               0.00\n",
       "Time:                        16:42:14   Log-Likelihood:                -13335.\n",
       "No. Observations:                3047   AIC:                         2.673e+04\n",
       "Df Residuals:                    3017   BIC:                         2.691e+04\n",
       "Df Model:                          29                                         \n",
       "Covariance Type:            nonrobust                                         \n",
       "==========================================================================================\n",
       "                             coef    std err          t      P>|t|      [0.025      0.975]\n",
       "------------------------------------------------------------------------------------------\n",
       "const                    121.3633     13.193      9.199      0.000      95.496     147.231\n",
       "avgAnnCount               -0.0036      0.001     -4.618      0.000      -0.005      -0.002\n",
       "avgDeathsPerYear           0.0191      0.004      4.892      0.000       0.011       0.027\n",
       "incidenceRate              0.1926      0.007     26.626      0.000       0.178       0.207\n",
       "medIncome               8.742e-05      0.000      0.802      0.422      -0.000       0.000\n",
       "popEst2015             -1.616e-05   5.48e-06     -2.952      0.003   -2.69e-05   -5.43e-06\n",
       "povertyPercent             0.6326      0.154      4.116      0.000       0.331       0.934\n",
       "studyPerCap            -7.683e-05      0.001     -0.113      0.910      -0.001       0.001\n",
       "MedianAge                 -0.0029      0.008     -0.376      0.707      -0.018       0.012\n",
       "MedianAgeMale             -0.4983      0.208     -2.392      0.017      -0.907      -0.090\n",
       "MedianAgeFemale            0.0301      0.215      0.140      0.889      -0.392       0.452\n",
       "AvgHouseholdSize           0.4754      0.958      0.496      0.620      -1.403       2.354\n",
       "PercentMarried             0.8943      0.147      6.085      0.000       0.606       1.182\n",
       "PctNoHS18_24              -0.1228      0.056     -2.193      0.028      -0.233      -0.013\n",
       "PctHS18_24                 0.2408      0.049      4.895      0.000       0.144       0.337\n",
       "PctBachDeg18_24           -0.0970      0.108     -0.894      0.371      -0.310       0.116\n",
       "PctHS25_Over               0.3860      0.097      3.995      0.000       0.197       0.576\n",
       "PctBachDeg25_Over         -1.2507      0.154     -8.139      0.000      -1.552      -0.949\n",
       "PctUnemployed16_Over       0.3636      0.161      2.263      0.024       0.049       0.679\n",
       "PctPrivateCoverage        -0.4744      0.131     -3.622      0.000      -0.731      -0.218\n",
       "PctEmpPrivCoverage         0.3039      0.103      2.951      0.003       0.102       0.506\n",
       "PctPublicCoverage          0.0152      0.217      0.070      0.944      -0.411       0.442\n",
       "PctPublicCoverageAlone     0.0901      0.274      0.328      0.743      -0.448       0.628\n",
       "PctWhite                  -0.1114      0.057     -1.947      0.052      -0.224       0.001\n",
       "PctBlack                  -0.0401      0.055     -0.724      0.469      -0.149       0.069\n",
       "PctAsian                   0.0257      0.189      0.136      0.892      -0.344       0.395\n",
       "PctOtherRace              -0.8940      0.124     -7.196      0.000      -1.138      -0.650\n",
       "PctMarriedHouseholds      -0.9003      0.140     -6.436      0.000      -1.175      -0.626\n",
       "BirthRate                 -0.9204      0.193     -4.764      0.000      -1.299      -0.542\n",
       "binnedInc_avg           1.614e-05   5.64e-05      0.286      0.775   -9.45e-05       0.000\n",
       "==============================================================================\n",
       "Omnibus:                      201.055   Durbin-Watson:                   1.770\n",
       "Prob(Omnibus):                  0.000   Jarque-Bera (JB):              839.917\n",
       "Skew:                           0.167   Prob(JB):                    4.12e-183\n",
       "Kurtosis:                       5.550   Cond. No.                     1.30e+07\n",
       "==============================================================================\n",
       "\n",
       "Warnings:\n",
       "[1] Standard Errors assume that the covariance matrix of the errors is correctly specified.\n",
       "[2] The condition number is large, 1.3e+07. This might indicate that there are\n",
       "strong multicollinearity or other numerical problems.\n",
       "\"\"\""
      ]
     },
     "execution_count": 32,
     "metadata": {},
     "output_type": "execute_result"
    }
   ],
   "source": [
    "## Base model configuration.\n",
    "\n",
    "df1 = df.copy()\n",
    "df1 = df1.drop(['PctEmployed16_Over','PctPrivateCoverageAlone'], axis =1)\n",
    "\n",
    "import warnings \n",
    "warnings.filterwarnings('ignore')\n",
    "\n",
    "## TARGET_deathRate is my target variable.\n",
    "\n",
    "X = df1.drop('TARGET_deathRate', axis=1) #IV\n",
    "y = df1['TARGET_deathRate'] #DV\n",
    "\n",
    "from sklearn.model_selection import train_test_split\n",
    "X_train, X_test , y_train, y_test = train_test_split(X,y, test_size = 0.30, random_state = 1)\n",
    "\n",
    "import statsmodels.api as sm\n",
    "X_constant = sm.add_constant(X)\n",
    "lin_reg = sm.OLS(y, X_constant).fit()\n",
    "\n",
    "lin_reg.summary()"
   ]
  },
  {
   "cell_type": "code",
   "execution_count": 33,
   "metadata": {},
   "outputs": [
    {
     "name": "stdout",
     "output_type": "stream",
     "text": [
      "Base train score:  50.96750740323187\n",
      "Base test score:  52.69933531673636\n"
     ]
    }
   ],
   "source": [
    "from sklearn.linear_model import LinearRegression\n",
    "model = LinearRegression()\n",
    "model.fit(X_train, y_train)\n",
    "y_pred = model.predict(X_test)\n",
    "print('Base train score: ',model.score(X_train, y_train)*100)\n",
    "print('Base test score: ', model.score(X_test, y_test)*100)"
   ]
  },
  {
   "cell_type": "code",
   "execution_count": 34,
   "metadata": {},
   "outputs": [
    {
     "name": "stdout",
     "output_type": "stream",
     "text": [
      "Base Rmse:  19.60231458424313\n"
     ]
    }
   ],
   "source": [
    "from sklearn.metrics import mean_squared_error\n",
    "mse = mean_squared_error(y_test, y_pred)\n",
    "rmse = np.sqrt(mse)\n",
    "print('Base Rmse: ', rmse)"
   ]
  },
  {
   "cell_type": "code",
   "execution_count": 83,
   "metadata": {},
   "outputs": [],
   "source": [
    "## The model is a bit overfit. And overall performance is also poor with 52 percent acc.\n",
    "## our aim should be to increase this to a good score and to reduce the base rmse as well."
   ]
  },
  {
   "cell_type": "code",
   "execution_count": 84,
   "metadata": {},
   "outputs": [],
   "source": [
    "## Assumption for Linear Regression."
   ]
  },
  {
   "cell_type": "code",
   "execution_count": 85,
   "metadata": {},
   "outputs": [],
   "source": [
    "## No Auto correlation\n",
    "## No Multi-Collinearity\n",
    "## Linearity\n",
    "## Homoscedacity\n",
    "## Normality"
   ]
  },
  {
   "cell_type": "code",
   "execution_count": 86,
   "metadata": {},
   "outputs": [],
   "source": [
    "## From the OLS model :\n",
    "## Durbin Watson Value : 1.770 -> It has very little Positive Autocorrelation.\n",
    "\n",
    "## Jarque- Bera Test:\n",
    "# H0 : It is not normal\n",
    "# Ha : It is normal\n",
    "## Again from the result of OLS model, Probability Value of Jarque Bera Test : 4.12e-183. Thus, p-value is less than 0.05.\n",
    "## Thus we [fail to accept the Null hypothesis] i.e. accept the alternate hypothesis. That is the residuals are be normal.\n",
    "\n",
    "## From the same result of OLS, we can findout that multicollinearity is present in our data.\n",
    "## We will try to reduce it as much as possible."
   ]
  },
  {
   "cell_type": "code",
   "execution_count": 40,
   "metadata": {},
   "outputs": [
    {
     "data": {
      "text/plain": [
       "(1.1171671383052026, 0.021908360423134217)"
      ]
     },
     "execution_count": 40,
     "metadata": {},
     "output_type": "execute_result"
    }
   ],
   "source": [
    "## Let's Check Linearity.\n",
    "\n",
    "## Rainbow test.\n",
    "\n",
    "import statsmodels.api as sm\n",
    "sm.stats.diagnostic.linear_rainbow(res=lin_reg, frac=0.69)"
   ]
  },
  {
   "cell_type": "code",
   "execution_count": 88,
   "metadata": {},
   "outputs": [],
   "source": [
    "## Here, frac represents the amount of data on which we are doing the test. So, we can change this also.\n",
    "## After some hit and trial we got to know that 69% of the data is Linear.\n",
    "## Good enough with Linearity."
   ]
  },
  {
   "cell_type": "code",
   "execution_count": 89,
   "metadata": {},
   "outputs": [],
   "source": [
    "## Homoscedacity.\n",
    "\n",
    "# H0 : Variance of residuals are constant.\n",
    "# Ha : Variance of residuals are not constant."
   ]
  },
  {
   "cell_type": "code",
   "execution_count": 41,
   "metadata": {},
   "outputs": [
    {
     "data": {
      "text/plain": [
       "<matplotlib.collections.PathCollection at 0x16bed736e88>"
      ]
     },
     "execution_count": 41,
     "metadata": {},
     "output_type": "execute_result"
    },
    {
     "data": {
      "image/png": "[encoded data removed]",
      "text/plain": [
       "<Figure size 1080x648 with 1 Axes>"
      ]
     },
     "metadata": {
      "image/png": {
       "height": 520,
       "width": 880
      }
     },
     "output_type": "display_data"
    }
   ],
   "source": [
    "from statsmodels.compat import lzip\n",
    "import numpy as np\n",
    "from statsmodels.compat import lzip\n",
    "%matplotlib inline\n",
    "%config InlineBackend.figure_format ='retina'\n",
    "import seaborn as sns \n",
    "import matplotlib.pyplot as plt\n",
    "import statsmodels.stats.api as sms\n",
    "sns.set_style('darkgrid')\n",
    "sns.mpl.rcParams['figure.figsize'] = (15.0, 9.0)\n",
    "\n",
    "model = lin_reg\n",
    "fitted_vals = model.predict()\n",
    "resids = model.resid\n",
    "\n",
    "\n",
    "plt.scatter(fitted_vals,resids)"
   ]
  },
  {
   "cell_type": "code",
   "execution_count": 43,
   "metadata": {},
   "outputs": [
    {
     "data": {
      "text/plain": [
       "[('F statistic', 0.8960658897545059), ('p-value', 0.9829808209580363)]"
      ]
     },
     "execution_count": 43,
     "metadata": {},
     "output_type": "execute_result"
    }
   ],
   "source": [
    "resids_standardized = model.get_influence().resid_studentized_internal\n",
    "\n",
    "name = ['F statistic', 'p-value']\n",
    "test = sms.het_goldfeldquandt(model.resid, model.model.exog)\n",
    "lzip(name, test)"
   ]
  },
  {
   "cell_type": "code",
   "execution_count": 91,
   "metadata": {},
   "outputs": [],
   "source": [
    "## p-value > 0.05, Null hypothesis is true. Thus variance of residuals are constant. Homoscedious."
   ]
  },
  {
   "cell_type": "code",
   "execution_count": 92,
   "metadata": {},
   "outputs": [],
   "source": [
    "## Base Model and Assumptions are done."
   ]
  },
  {
   "cell_type": "code",
   "execution_count": 93,
   "metadata": {},
   "outputs": [],
   "source": [
    "## EDA"
   ]
  },
  {
   "cell_type": "code",
   "execution_count": 94,
   "metadata": {},
   "outputs": [
    {
     "data": {
      "text/plain": [
       "Index(['avgAnnCount', 'avgDeathsPerYear', 'TARGET_deathRate', 'incidenceRate',\n",
       "       'medIncome', 'popEst2015', 'povertyPercent', 'studyPerCap', 'MedianAge',\n",
       "       'MedianAgeMale', 'MedianAgeFemale', 'AvgHouseholdSize',\n",
       "       'PercentMarried', 'PctNoHS18_24', 'PctHS18_24', 'PctBachDeg18_24',\n",
       "       'PctHS25_Over', 'PctBachDeg25_Over', 'PctEmployed16_Over',\n",
       "       'PctUnemployed16_Over', 'PctPrivateCoverage', 'PctPrivateCoverageAlone',\n",
       "       'PctEmpPrivCoverage', 'PctPublicCoverage', 'PctPublicCoverageAlone',\n",
       "       'PctWhite', 'PctBlack', 'PctAsian', 'PctOtherRace',\n",
       "       'PctMarriedHouseholds', 'BirthRate', 'binnedInc_avg'],\n",
       "      dtype='object')"
      ]
     },
     "execution_count": 94,
     "metadata": {},
     "output_type": "execute_result"
    }
   ],
   "source": [
    "df.columns"
   ]
  },
  {
   "cell_type": "code",
   "execution_count": 44,
   "metadata": {},
   "outputs": [
    {
     "data": {
      "text/html": [
       "<div>\n",
       "<style scoped>\n",
       "    .dataframe tbody tr th:only-of-type {\n",
       "        vertical-align: middle;\n",
       "    }\n",
       "\n",
       "    .dataframe tbody tr th {\n",
       "        vertical-align: top;\n",
       "    }\n",
       "\n",
       "    .dataframe thead th {\n",
       "        text-align: right;\n",
       "    }\n",
       "</style>\n",
       "<table border=\"1\" class=\"dataframe\">\n",
       "  <thead>\n",
       "    <tr style=\"text-align: right;\">\n",
       "      <th></th>\n",
       "      <th>TARGET_deathRate</th>\n",
       "    </tr>\n",
       "  </thead>\n",
       "  <tbody>\n",
       "    <tr>\n",
       "      <th>TARGET_deathRate</th>\n",
       "      <td>1.0</td>\n",
       "    </tr>\n",
       "  </tbody>\n",
       "</table>\n",
       "</div>"
      ],
      "text/plain": [
       "                  TARGET_deathRate\n",
       "TARGET_deathRate               1.0"
      ]
     },
     "execution_count": 44,
     "metadata": {},
     "output_type": "execute_result"
    }
   ],
   "source": [
    "## Let's find out which columns have good correlation with the target variable.\n",
    "df2 = pd.DataFrame(df1.corr()['TARGET_deathRate'])\n",
    "df2[abs(df2['TARGET_deathRate'])>0.5]"
   ]
  },
  {
   "cell_type": "code",
   "execution_count": 96,
   "metadata": {},
   "outputs": [],
   "source": [
    "## From this we can see that there aren't any column which has good correlation with the Target column."
   ]
  },
  {
   "cell_type": "code",
   "execution_count": 45,
   "metadata": {},
   "outputs": [
    {
     "data": {
      "text/plain": [
       "Index(['avgAnnCount', 'avgDeathsPerYear', 'TARGET_deathRate', 'incidenceRate',\n",
       "       'medIncome', 'popEst2015', 'povertyPercent', 'studyPerCap', 'MedianAge',\n",
       "       'MedianAgeMale', 'MedianAgeFemale', 'AvgHouseholdSize',\n",
       "       'PercentMarried', 'PctNoHS18_24', 'PctHS18_24', 'PctBachDeg18_24',\n",
       "       'PctHS25_Over', 'PctBachDeg25_Over', 'PctUnemployed16_Over',\n",
       "       'PctPrivateCoverage', 'PctEmpPrivCoverage', 'PctPublicCoverage',\n",
       "       'PctPublicCoverageAlone', 'PctWhite', 'PctBlack', 'PctAsian',\n",
       "       'PctOtherRace', 'PctMarriedHouseholds', 'BirthRate', 'binnedInc_avg'],\n",
       "      dtype='object')"
      ]
     },
     "execution_count": 45,
     "metadata": {},
     "output_type": "execute_result"
    }
   ],
   "source": [
    "df1.columns"
   ]
  },
  {
   "cell_type": "code",
   "execution_count": 98,
   "metadata": {},
   "outputs": [],
   "source": [
    "## Predict PctPrivateCoverageAlone, PctEmployed16_Over.\n",
    "## feature selection.\n",
    "## Transformation.\n",
    "## model. Lasso Ridge."
   ]
  },
  {
   "cell_type": "code",
   "execution_count": 46,
   "metadata": {},
   "outputs": [
    {
     "data": {
      "text/plain": [
       "(3047, 32)"
      ]
     },
     "execution_count": 46,
     "metadata": {},
     "output_type": "execute_result"
    }
   ],
   "source": [
    "df.shape"
   ]
  },
  {
   "cell_type": "code",
   "execution_count": 101,
   "metadata": {},
   "outputs": [
    {
     "name": "stdout",
     "output_type": "stream",
     "text": [
      "Base train score:  98.82364944584997\n",
      "Base test score:  98.61856223541416\n",
      "PctPrivateCoverageAlone Predicting Rmse:  1.1784046823961312\n"
     ]
    }
   ],
   "source": [
    "## Now let's take the columns PctPrivateCoverageAlone, PctEmployed16_Over. \n",
    "\n",
    "df3 = df.copy()\n",
    "\n",
    "## We will make the null values as our unseen data. We will try to replace that with the best possible predicted values.\n",
    "## But for this we will drop the other column which is having null values too.\n",
    "\n",
    "df3['PctPrivateCoverageAlone'].fillna(\"Test\", inplace = True)\n",
    "\n",
    "df3_unseen = df3[df3['PctPrivateCoverageAlone']=='Test']\n",
    "df3_modelling = df3[df3['PctPrivateCoverageAlone']!='Test']\n",
    "\n",
    "df4_m = df3_modelling['PctEmployed16_Over']\n",
    "df4_u = df3_unseen['PctEmployed16_Over']\n",
    "\n",
    "df4 = pd.concat([df4_m,df4_u],0)\n",
    "\n",
    "df3_unseen.dropna(axis=1,inplace = True)\n",
    "df3_modelling.dropna(axis=1, inplace = True)\n",
    "\n",
    "## Let's start with 'PctPrivateCoverageAlone'.\n",
    "\n",
    "X = df3_modelling.drop('PctPrivateCoverageAlone', axis=1) #IV\n",
    "y = df3_modelling['PctPrivateCoverageAlone'] #DV\n",
    "\n",
    "from sklearn.model_selection import train_test_split\n",
    "X_train, X_test , y_train, y_test = train_test_split(X,y, test_size = 0.30, random_state = 1)\n",
    "\n",
    "from sklearn.linear_model import LinearRegression\n",
    "model = LinearRegression()\n",
    "model.fit(X_train, y_train)\n",
    "y_pred = model.predict(X_test)\n",
    "print('Base train score: ',model.score(X_train, y_train)*100)\n",
    "print('Base test score: ', model.score(X_test, y_test)*100)\n",
    "\n",
    "from sklearn.metrics import mean_squared_error\n",
    "mse = mean_squared_error(y_test, y_pred)\n",
    "rmse = np.sqrt(mse)\n",
    "print('PctPrivateCoverageAlone Predicting Rmse: ', rmse)"
   ]
  },
  {
   "cell_type": "code",
   "execution_count": 102,
   "metadata": {},
   "outputs": [],
   "source": [
    "## We can esily see that whatever we are predicting is 98 % accurate. So, we can easily use this model to predict our model."
   ]
  },
  {
   "cell_type": "code",
   "execution_count": 103,
   "metadata": {},
   "outputs": [
    {
     "data": {
      "text/plain": [
       "0     54.684847\n",
       "9     53.933565\n",
       "10    44.253946\n",
       "11    46.924395\n",
       "23    54.799235\n",
       "Name: PctPrivateCoverageAlone, dtype: float64"
      ]
     },
     "execution_count": 103,
     "metadata": {},
     "output_type": "execute_result"
    }
   ],
   "source": [
    "X = df3_unseen.drop('PctPrivateCoverageAlone', axis=1) #IV\n",
    "\n",
    "y_pred = model.predict(X)\n",
    "df3_unseen['PctPrivateCoverageAlone'] = y_pred\n",
    "\n",
    "df3_unseen['PctPrivateCoverageAlone'].head()"
   ]
  },
  {
   "cell_type": "code",
   "execution_count": 104,
   "metadata": {},
   "outputs": [
    {
     "data": {
      "text/plain": [
       "(3047, 32)"
      ]
     },
     "execution_count": 104,
     "metadata": {},
     "output_type": "execute_result"
    }
   ],
   "source": [
    "df3.shape"
   ]
  },
  {
   "cell_type": "code",
   "execution_count": 105,
   "metadata": {},
   "outputs": [
    {
     "data": {
      "text/plain": [
       "(3047, 31)"
      ]
     },
     "execution_count": 105,
     "metadata": {},
     "output_type": "execute_result"
    }
   ],
   "source": [
    "df3_new = pd.concat([df3_modelling,df3_unseen],0)\n",
    "df3_new.shape"
   ]
  },
  {
   "cell_type": "code",
   "execution_count": 106,
   "metadata": {},
   "outputs": [],
   "source": [
    "## Now we have df3 which has the value with null values for 'PctPrivateCoverageAlone' and df3_new which has values where null \n",
    "## values are replaced by predicted values.\n",
    "\n",
    "\n",
    "## Now in this df3_new, we need to attach our 'PctEmployed16_Over' column which we dropped in df3.\n",
    "\n",
    "df_new = pd.concat([df3_new, df4],1)"
   ]
  },
  {
   "cell_type": "code",
   "execution_count": 107,
   "metadata": {},
   "outputs": [
    {
     "name": "stdout",
     "output_type": "stream",
     "text": [
      "(3047, 32)\n"
     ]
    },
    {
     "data": {
      "text/html": [
       "<div>\n",
       "<style scoped>\n",
       "    .dataframe tbody tr th:only-of-type {\n",
       "        vertical-align: middle;\n",
       "    }\n",
       "\n",
       "    .dataframe tbody tr th {\n",
       "        vertical-align: top;\n",
       "    }\n",
       "\n",
       "    .dataframe thead th {\n",
       "        text-align: right;\n",
       "    }\n",
       "</style>\n",
       "<table border=\"1\" class=\"dataframe\">\n",
       "  <thead>\n",
       "    <tr style=\"text-align: right;\">\n",
       "      <th></th>\n",
       "      <th>avgAnnCount</th>\n",
       "      <th>avgDeathsPerYear</th>\n",
       "      <th>TARGET_deathRate</th>\n",
       "      <th>incidenceRate</th>\n",
       "      <th>medIncome</th>\n",
       "      <th>popEst2015</th>\n",
       "      <th>povertyPercent</th>\n",
       "      <th>studyPerCap</th>\n",
       "      <th>MedianAge</th>\n",
       "      <th>MedianAgeMale</th>\n",
       "      <th>...</th>\n",
       "      <th>PctPublicCoverage</th>\n",
       "      <th>PctPublicCoverageAlone</th>\n",
       "      <th>PctWhite</th>\n",
       "      <th>PctBlack</th>\n",
       "      <th>PctAsian</th>\n",
       "      <th>PctOtherRace</th>\n",
       "      <th>PctMarriedHouseholds</th>\n",
       "      <th>BirthRate</th>\n",
       "      <th>binnedInc_avg</th>\n",
       "      <th>PctEmployed16_Over</th>\n",
       "    </tr>\n",
       "  </thead>\n",
       "  <tbody>\n",
       "    <tr>\n",
       "      <th>1</th>\n",
       "      <td>173.0</td>\n",
       "      <td>70</td>\n",
       "      <td>161.3</td>\n",
       "      <td>411.6</td>\n",
       "      <td>48127</td>\n",
       "      <td>43269</td>\n",
       "      <td>18.6</td>\n",
       "      <td>23.111234</td>\n",
       "      <td>33.0</td>\n",
       "      <td>32.2</td>\n",
       "      <td>...</td>\n",
       "      <td>31.1</td>\n",
       "      <td>15.3</td>\n",
       "      <td>89.228509</td>\n",
       "      <td>0.969102</td>\n",
       "      <td>2.246233</td>\n",
       "      <td>3.741352</td>\n",
       "      <td>45.372500</td>\n",
       "      <td>4.333096</td>\n",
       "      <td>49533.0</td>\n",
       "      <td>55.9</td>\n",
       "    </tr>\n",
       "    <tr>\n",
       "      <th>2</th>\n",
       "      <td>102.0</td>\n",
       "      <td>50</td>\n",
       "      <td>174.7</td>\n",
       "      <td>349.7</td>\n",
       "      <td>49348</td>\n",
       "      <td>21026</td>\n",
       "      <td>14.6</td>\n",
       "      <td>47.560164</td>\n",
       "      <td>45.0</td>\n",
       "      <td>44.0</td>\n",
       "      <td>...</td>\n",
       "      <td>42.1</td>\n",
       "      <td>21.1</td>\n",
       "      <td>90.922190</td>\n",
       "      <td>0.739673</td>\n",
       "      <td>0.465898</td>\n",
       "      <td>2.747358</td>\n",
       "      <td>54.444868</td>\n",
       "      <td>3.729488</td>\n",
       "      <td>49533.0</td>\n",
       "      <td>45.9</td>\n",
       "    </tr>\n",
       "  </tbody>\n",
       "</table>\n",
       "<p>2 rows × 32 columns</p>\n",
       "</div>"
      ],
      "text/plain": [
       "   avgAnnCount  avgDeathsPerYear  TARGET_deathRate  incidenceRate  medIncome  \\\n",
       "1        173.0                70             161.3          411.6      48127   \n",
       "2        102.0                50             174.7          349.7      49348   \n",
       "\n",
       "   popEst2015  povertyPercent  studyPerCap  MedianAge  MedianAgeMale  ...  \\\n",
       "1       43269            18.6    23.111234       33.0           32.2  ...   \n",
       "2       21026            14.6    47.560164       45.0           44.0  ...   \n",
       "\n",
       "   PctPublicCoverage  PctPublicCoverageAlone   PctWhite  PctBlack  PctAsian  \\\n",
       "1               31.1                    15.3  89.228509  0.969102  2.246233   \n",
       "2               42.1                    21.1  90.922190  0.739673  0.465898   \n",
       "\n",
       "   PctOtherRace  PctMarriedHouseholds  BirthRate  binnedInc_avg  \\\n",
       "1      3.741352             45.372500   4.333096        49533.0   \n",
       "2      2.747358             54.444868   3.729488        49533.0   \n",
       "\n",
       "   PctEmployed16_Over  \n",
       "1                55.9  \n",
       "2                45.9  \n",
       "\n",
       "[2 rows x 32 columns]"
      ]
     },
     "execution_count": 107,
     "metadata": {},
     "output_type": "execute_result"
    }
   ],
   "source": [
    "print(df_new.shape)\n",
    "df_new.head(2)"
   ]
  },
  {
   "cell_type": "code",
   "execution_count": 108,
   "metadata": {},
   "outputs": [
    {
     "name": "stdout",
     "output_type": "stream",
     "text": [
      "Base train score:  85.46784248986832\n",
      "Base test score:  84.94960706568948\n",
      "PctEmployed16_Over Predicting Rmse:  3.261361560775694\n"
     ]
    }
   ],
   "source": [
    "## Now let's try to replace the null values of 'PctEmployed16_Over'.\n",
    "\n",
    "df3 = df_new.copy()\n",
    "\n",
    "df3['PctEmployed16_Over'].fillna(\"Test\", inplace = True)\n",
    "\n",
    "df3_unseen = df3[df3['PctEmployed16_Over']=='Test']\n",
    "df3_modelling = df3[df3['PctEmployed16_Over']!='Test']\n",
    "\n",
    "## Let's start with 'PctPrivateCoverageAlone'.\n",
    "\n",
    "X = df3_modelling.drop('PctEmployed16_Over', axis=1) #IV\n",
    "y = df3_modelling['PctEmployed16_Over'] #DV\n",
    "\n",
    "from sklearn.model_selection import train_test_split\n",
    "X_train, X_test , y_train, y_test = train_test_split(X,y, test_size = 0.30, random_state = 1)\n",
    "\n",
    "from sklearn.linear_model import LinearRegression\n",
    "model = LinearRegression()\n",
    "model.fit(X_train, y_train)\n",
    "y_pred = model.predict(X_test)\n",
    "print('Base train score: ',model.score(X_train, y_train)*100)\n",
    "print('Base test score: ', model.score(X_test, y_test)*100)\n",
    "\n",
    "from sklearn.metrics import mean_squared_error\n",
    "mse = mean_squared_error(y_test, y_pred)\n",
    "rmse = np.sqrt(mse)\n",
    "print('PctEmployed16_Over Predicting Rmse: ', rmse)"
   ]
  },
  {
   "cell_type": "code",
   "execution_count": 109,
   "metadata": {},
   "outputs": [
    {
     "data": {
      "text/plain": [
       "104    63.556212\n",
       "105    47.234840\n",
       "184    57.965284\n",
       "272    55.316288\n",
       "326    32.396626\n",
       "Name: PctEmployed16_Over, dtype: float64"
      ]
     },
     "execution_count": 109,
     "metadata": {},
     "output_type": "execute_result"
    }
   ],
   "source": [
    "## Now we are able to predict the null values for this column.\n",
    "\n",
    "X = df3_unseen.drop('PctEmployed16_Over', axis=1) #IV\n",
    "\n",
    "y_pred = model.predict(X)\n",
    "df3_unseen['PctEmployed16_Over'] = y_pred\n",
    "\n",
    "df3_unseen['PctEmployed16_Over'].head()"
   ]
  },
  {
   "cell_type": "code",
   "execution_count": 110,
   "metadata": {},
   "outputs": [
    {
     "data": {
      "text/plain": [
       "(3047, 32)"
      ]
     },
     "execution_count": 110,
     "metadata": {},
     "output_type": "execute_result"
    }
   ],
   "source": [
    "df3_new = pd.concat([df3_modelling,df3_unseen],0)\n",
    "df3_new.shape"
   ]
  },
  {
   "cell_type": "code",
   "execution_count": 45,
   "metadata": {},
   "outputs": [
    {
     "data": {
      "text/html": [
       "<div>\n",
       "<style scoped>\n",
       "    .dataframe tbody tr th:only-of-type {\n",
       "        vertical-align: middle;\n",
       "    }\n",
       "\n",
       "    .dataframe tbody tr th {\n",
       "        vertical-align: top;\n",
       "    }\n",
       "\n",
       "    .dataframe thead th {\n",
       "        text-align: right;\n",
       "    }\n",
       "</style>\n",
       "<table border=\"1\" class=\"dataframe\">\n",
       "  <thead>\n",
       "    <tr style=\"text-align: right;\">\n",
       "      <th></th>\n",
       "      <th>avgAnnCount</th>\n",
       "      <th>avgDeathsPerYear</th>\n",
       "      <th>TARGET_deathRate</th>\n",
       "      <th>incidenceRate</th>\n",
       "      <th>medIncome</th>\n",
       "      <th>popEst2015</th>\n",
       "      <th>povertyPercent</th>\n",
       "      <th>studyPerCap</th>\n",
       "      <th>MedianAge</th>\n",
       "      <th>MedianAgeMale</th>\n",
       "      <th>...</th>\n",
       "      <th>PctPublicCoverage</th>\n",
       "      <th>PctPublicCoverageAlone</th>\n",
       "      <th>PctWhite</th>\n",
       "      <th>PctBlack</th>\n",
       "      <th>PctAsian</th>\n",
       "      <th>PctOtherRace</th>\n",
       "      <th>PctMarriedHouseholds</th>\n",
       "      <th>BirthRate</th>\n",
       "      <th>binnedInc_avg</th>\n",
       "      <th>PctEmployed16_Over</th>\n",
       "    </tr>\n",
       "  </thead>\n",
       "  <tbody>\n",
       "    <tr>\n",
       "      <th>1</th>\n",
       "      <td>173.0</td>\n",
       "      <td>70</td>\n",
       "      <td>161.3</td>\n",
       "      <td>411.6</td>\n",
       "      <td>48127</td>\n",
       "      <td>43269</td>\n",
       "      <td>18.6</td>\n",
       "      <td>23.111234</td>\n",
       "      <td>33.0</td>\n",
       "      <td>32.2</td>\n",
       "      <td>...</td>\n",
       "      <td>31.1</td>\n",
       "      <td>15.3</td>\n",
       "      <td>89.228509</td>\n",
       "      <td>0.969102</td>\n",
       "      <td>2.246233</td>\n",
       "      <td>3.741352</td>\n",
       "      <td>45.372500</td>\n",
       "      <td>4.333096</td>\n",
       "      <td>49533.0</td>\n",
       "      <td>55.9</td>\n",
       "    </tr>\n",
       "    <tr>\n",
       "      <th>2</th>\n",
       "      <td>102.0</td>\n",
       "      <td>50</td>\n",
       "      <td>174.7</td>\n",
       "      <td>349.7</td>\n",
       "      <td>49348</td>\n",
       "      <td>21026</td>\n",
       "      <td>14.6</td>\n",
       "      <td>47.560164</td>\n",
       "      <td>45.0</td>\n",
       "      <td>44.0</td>\n",
       "      <td>...</td>\n",
       "      <td>42.1</td>\n",
       "      <td>21.1</td>\n",
       "      <td>90.922190</td>\n",
       "      <td>0.739673</td>\n",
       "      <td>0.465898</td>\n",
       "      <td>2.747358</td>\n",
       "      <td>54.444868</td>\n",
       "      <td>3.729488</td>\n",
       "      <td>49533.0</td>\n",
       "      <td>45.9</td>\n",
       "    </tr>\n",
       "    <tr>\n",
       "      <th>3</th>\n",
       "      <td>427.0</td>\n",
       "      <td>202</td>\n",
       "      <td>194.8</td>\n",
       "      <td>430.4</td>\n",
       "      <td>44243</td>\n",
       "      <td>75882</td>\n",
       "      <td>17.1</td>\n",
       "      <td>342.637253</td>\n",
       "      <td>42.8</td>\n",
       "      <td>42.2</td>\n",
       "      <td>...</td>\n",
       "      <td>45.3</td>\n",
       "      <td>25.0</td>\n",
       "      <td>91.744686</td>\n",
       "      <td>0.782626</td>\n",
       "      <td>1.161359</td>\n",
       "      <td>1.362643</td>\n",
       "      <td>51.021514</td>\n",
       "      <td>4.603841</td>\n",
       "      <td>43961.7</td>\n",
       "      <td>48.3</td>\n",
       "    </tr>\n",
       "    <tr>\n",
       "      <th>4</th>\n",
       "      <td>57.0</td>\n",
       "      <td>26</td>\n",
       "      <td>144.4</td>\n",
       "      <td>350.1</td>\n",
       "      <td>49955</td>\n",
       "      <td>10321</td>\n",
       "      <td>12.5</td>\n",
       "      <td>0.000000</td>\n",
       "      <td>48.3</td>\n",
       "      <td>47.8</td>\n",
       "      <td>...</td>\n",
       "      <td>44.0</td>\n",
       "      <td>22.7</td>\n",
       "      <td>94.104024</td>\n",
       "      <td>0.270192</td>\n",
       "      <td>0.665830</td>\n",
       "      <td>0.492135</td>\n",
       "      <td>54.027460</td>\n",
       "      <td>6.796657</td>\n",
       "      <td>49533.0</td>\n",
       "      <td>48.2</td>\n",
       "    </tr>\n",
       "    <tr>\n",
       "      <th>5</th>\n",
       "      <td>428.0</td>\n",
       "      <td>152</td>\n",
       "      <td>176.0</td>\n",
       "      <td>505.4</td>\n",
       "      <td>52313</td>\n",
       "      <td>61023</td>\n",
       "      <td>15.6</td>\n",
       "      <td>180.259902</td>\n",
       "      <td>45.4</td>\n",
       "      <td>43.5</td>\n",
       "      <td>...</td>\n",
       "      <td>43.2</td>\n",
       "      <td>20.2</td>\n",
       "      <td>84.882631</td>\n",
       "      <td>1.653205</td>\n",
       "      <td>1.538057</td>\n",
       "      <td>3.314635</td>\n",
       "      <td>51.220360</td>\n",
       "      <td>4.964476</td>\n",
       "      <td>52795.0</td>\n",
       "      <td>44.1</td>\n",
       "    </tr>\n",
       "  </tbody>\n",
       "</table>\n",
       "<p>5 rows × 32 columns</p>\n",
       "</div>"
      ],
      "text/plain": [
       "   avgAnnCount  avgDeathsPerYear  TARGET_deathRate  incidenceRate  medIncome  \\\n",
       "1        173.0                70             161.3          411.6      48127   \n",
       "2        102.0                50             174.7          349.7      49348   \n",
       "3        427.0               202             194.8          430.4      44243   \n",
       "4         57.0                26             144.4          350.1      49955   \n",
       "5        428.0               152             176.0          505.4      52313   \n",
       "\n",
       "   popEst2015  povertyPercent  studyPerCap  MedianAge  MedianAgeMale  ...  \\\n",
       "1       43269            18.6    23.111234       33.0           32.2  ...   \n",
       "2       21026            14.6    47.560164       45.0           44.0  ...   \n",
       "3       75882            17.1   342.637253       42.8           42.2  ...   \n",
       "4       10321            12.5     0.000000       48.3           47.8  ...   \n",
       "5       61023            15.6   180.259902       45.4           43.5  ...   \n",
       "\n",
       "   PctPublicCoverage  PctPublicCoverageAlone   PctWhite  PctBlack  PctAsian  \\\n",
       "1               31.1                    15.3  89.228509  0.969102  2.246233   \n",
       "2               42.1                    21.1  90.922190  0.739673  0.465898   \n",
       "3               45.3                    25.0  91.744686  0.782626  1.161359   \n",
       "4               44.0                    22.7  94.104024  0.270192  0.665830   \n",
       "5               43.2                    20.2  84.882631  1.653205  1.538057   \n",
       "\n",
       "   PctOtherRace  PctMarriedHouseholds  BirthRate  binnedInc_avg  \\\n",
       "1      3.741352             45.372500   4.333096        49533.0   \n",
       "2      2.747358             54.444868   3.729488        49533.0   \n",
       "3      1.362643             51.021514   4.603841        43961.7   \n",
       "4      0.492135             54.027460   6.796657        49533.0   \n",
       "5      3.314635             51.220360   4.964476        52795.0   \n",
       "\n",
       "   PctEmployed16_Over  \n",
       "1                55.9  \n",
       "2                45.9  \n",
       "3                48.3  \n",
       "4                48.2  \n",
       "5                44.1  \n",
       "\n",
       "[5 rows x 32 columns]"
      ]
     },
     "execution_count": 45,
     "metadata": {},
     "output_type": "execute_result"
    }
   ],
   "source": [
    "df3_new.head()"
   ]
  },
  {
   "cell_type": "code",
   "execution_count": 46,
   "metadata": {},
   "outputs": [
    {
     "name": "stdout",
     "output_type": "stream",
     "text": [
      "Base train score:  54.45480690521283\n",
      "Base test score:  46.40359046238848\n",
      "Base Rmse:  19.86778076400189\n"
     ]
    }
   ],
   "source": [
    "## After Predicting, Let's see what is the overall accuracy of my data.\n",
    "X = df3_new.drop('TARGET_deathRate', axis=1) #IV\n",
    "y = df3_new['TARGET_deathRate'] #DV\n",
    "\n",
    "from sklearn.model_selection import train_test_split\n",
    "X_train, X_test , y_train, y_test = train_test_split(X,y, test_size = 0.30, random_state = 1)\n",
    "\n",
    "from sklearn.linear_model import LinearRegression\n",
    "model = LinearRegression()\n",
    "model.fit(X_train, y_train)\n",
    "y_pred = model.predict(X_test)\n",
    "print('Base train score: ',model.score(X_train, y_train)*100)\n",
    "print('Base test score: ', model.score(X_test, y_test)*100)\n",
    "\n",
    "from sklearn.metrics import mean_squared_error\n",
    "mse = mean_squared_error(y_test, y_pred)\n",
    "rmse = np.sqrt(mse)\n",
    "print('Base Rmse: ', rmse)"
   ]
  },
  {
   "cell_type": "code",
   "execution_count": 47,
   "metadata": {},
   "outputs": [],
   "source": [
    "## The scenario after predicting our null values is that we have an Overfit model.\n",
    "\n",
    "## Let's try to solve this issue."
   ]
  },
  {
   "cell_type": "code",
   "execution_count": 53,
   "metadata": {},
   "outputs": [
    {
     "name": "stdout",
     "output_type": "stream",
     "text": [
      "Optimum number of features: 10\n",
      "Score with 10 features: 0.382327\n"
     ]
    }
   ],
   "source": [
    "## Feature Selection Techniques.\n",
    "\n",
    "## RFE\n",
    "\n",
    "from sklearn.feature_selection import RFE\n",
    "\n",
    "\n",
    "#no of features\n",
    "nof_list=np.arange(1,13)            \n",
    "high_score=0\n",
    "#Variable to store the optimum features\n",
    "nof=0           \n",
    "score_list =[]\n",
    "for n in range(len(nof_list)):\n",
    "    X_train, X_test, y_train, y_test = train_test_split(X,y, test_size = 0.3, random_state = 0)\n",
    "    model = LinearRegression()\n",
    "    rfe = RFE(model,nof_list[n])\n",
    "    X_train_rfe = rfe.fit_transform(X_train,y_train)\n",
    "    X_test_rfe = rfe.transform(X_test)\n",
    "    model.fit(X_train_rfe,y_train)\n",
    "    score = model.score(X_test_rfe,y_test)\n",
    "    score_list.append(score)\n",
    "    if(score>high_score):\n",
    "        high_score = score\n",
    "        nof = nof_list[n]\n",
    "print(\"Optimum number of features: %d\" %nof)\n",
    "print(\"Score with %d features: %f\" % (nof, high_score))"
   ]
  },
  {
   "cell_type": "code",
   "execution_count": 50,
   "metadata": {},
   "outputs": [
    {
     "name": "stdout",
     "output_type": "stream",
     "text": [
      "Index(['MedianAgeFemale', 'PercentMarried', 'PctBachDeg25_Over',\n",
      "       'PctEmpPrivCoverage', 'PctPublicCoverage', 'PctPublicCoverageAlone',\n",
      "       'PctOtherRace', 'PctMarriedHouseholds', 'BirthRate',\n",
      "       'PctEmployed16_Over'],\n",
      "      dtype='object')\n"
     ]
    }
   ],
   "source": [
    "cols = list(X.columns)\n",
    "model = LinearRegression()\n",
    "#Initializing RFE model\n",
    "rfe = RFE(model, 10)             \n",
    "#Transforming data using RFE\n",
    "X_rfe = rfe.fit_transform(X,y)  \n",
    "#Fitting the data to model\n",
    "model.fit(X_rfe,y)              \n",
    "temp = pd.Series(rfe.support_,index = cols)\n",
    "selected_features_rfe = temp[temp==True].index\n",
    "print(selected_features_rfe)"
   ]
  },
  {
   "cell_type": "code",
   "execution_count": 54,
   "metadata": {},
   "outputs": [
    {
     "name": "stdout",
     "output_type": "stream",
     "text": [
      "train score:  40.258976710479146\n",
      "test score:  33.52862723286643\n",
      "Rmse:  22.125792465327546\n"
     ]
    }
   ],
   "source": [
    "## We will use the features obtained from our RFE model to get the important features for our model building.\n",
    "\n",
    "X = df3_new[['MedianAgeFemale', 'PercentMarried', 'PctBachDeg25_Over',\n",
    "       'PctEmpPrivCoverage', 'PctPublicCoverage', 'PctPublicCoverageAlone',\n",
    "       'PctOtherRace', 'PctMarriedHouseholds', 'BirthRate',\n",
    "       'PctEmployed16_Over']] #IV\n",
    "y = df3_new['TARGET_deathRate'] #DV\n",
    "\n",
    "from sklearn.model_selection import train_test_split\n",
    "X_train, X_test , y_train, y_test = train_test_split(X,y, test_size = 0.30, random_state = 1)\n",
    "\n",
    "from sklearn.linear_model import LinearRegression\n",
    "model = LinearRegression()\n",
    "model.fit(X_train, y_train)\n",
    "y_pred = model.predict(X_test)\n",
    "print('train score: ',model.score(X_train, y_train)*100)\n",
    "print('test score: ', model.score(X_test, y_test)*100)\n",
    "\n",
    "from sklearn.metrics import mean_squared_error\n",
    "mse = mean_squared_error(y_test, y_pred)\n",
    "rmse = np.sqrt(mse)\n",
    "print('Rmse: ', rmse)"
   ]
  },
  {
   "cell_type": "code",
   "execution_count": 64,
   "metadata": {},
   "outputs": [
    {
     "name": "stdout",
     "output_type": "stream",
     "text": [
      "<class 'pandas.core.frame.DataFrame'>\n",
      "Int64Index: 3047 entries, 1 to 3007\n",
      "Data columns (total 32 columns):\n",
      " #   Column                   Non-Null Count  Dtype  \n",
      "---  ------                   --------------  -----  \n",
      " 0   avgAnnCount              3047 non-null   float64\n",
      " 1   avgDeathsPerYear         3047 non-null   int64  \n",
      " 2   TARGET_deathRate         3047 non-null   float64\n",
      " 3   incidenceRate            3047 non-null   float64\n",
      " 4   medIncome                3047 non-null   int64  \n",
      " 5   popEst2015               3047 non-null   int64  \n",
      " 6   povertyPercent           3047 non-null   float64\n",
      " 7   studyPerCap              3047 non-null   float64\n",
      " 8   MedianAge                3047 non-null   float64\n",
      " 9   MedianAgeMale            3047 non-null   float64\n",
      " 10  MedianAgeFemale          3047 non-null   float64\n",
      " 11  AvgHouseholdSize         3047 non-null   float64\n",
      " 12  PercentMarried           3047 non-null   float64\n",
      " 13  PctNoHS18_24             3047 non-null   float64\n",
      " 14  PctHS18_24               3047 non-null   float64\n",
      " 15  PctBachDeg18_24          3047 non-null   float64\n",
      " 16  PctHS25_Over             3047 non-null   float64\n",
      " 17  PctBachDeg25_Over        3047 non-null   float64\n",
      " 18  PctUnemployed16_Over     3047 non-null   float64\n",
      " 19  PctPrivateCoverage       3047 non-null   float64\n",
      " 20  PctPrivateCoverageAlone  3047 non-null   object \n",
      " 21  PctEmpPrivCoverage       3047 non-null   float64\n",
      " 22  PctPublicCoverage        3047 non-null   float64\n",
      " 23  PctPublicCoverageAlone   3047 non-null   float64\n",
      " 24  PctWhite                 3047 non-null   float64\n",
      " 25  PctBlack                 3047 non-null   float64\n",
      " 26  PctAsian                 3047 non-null   float64\n",
      " 27  PctOtherRace             3047 non-null   float64\n",
      " 28  PctMarriedHouseholds     3047 non-null   float64\n",
      " 29  BirthRate                3047 non-null   float64\n",
      " 30  binnedInc_avg            3047 non-null   float64\n",
      " 31  PctEmployed16_Over       3047 non-null   object \n",
      "dtypes: float64(27), int64(3), object(2)\n",
      "memory usage: 785.6+ KB\n"
     ]
    }
   ],
   "source": [
    "df3_new.info()"
   ]
  },
  {
   "cell_type": "code",
   "execution_count": 116,
   "metadata": {},
   "outputs": [],
   "source": [
    "## While replacing the null values with most closely predicted values, we made all the null values as 'TEST'. This made the \n",
    "## dtype of the features as object, we need to convert them back to float.\n",
    "\n",
    "df3_new['PctEmployed16_Over'] = df3_new.PctEmployed16_Over.astype(float)\n",
    "df3_new['PctPrivateCoverageAlone'] = df3_new.PctPrivateCoverageAlone.astype(float)"
   ]
  },
  {
   "cell_type": "code",
   "execution_count": 117,
   "metadata": {},
   "outputs": [
    {
     "name": "stdout",
     "output_type": "stream",
     "text": [
      "<class 'pandas.core.frame.DataFrame'>\n",
      "Int64Index: 3047 entries, 1 to 3007\n",
      "Data columns (total 32 columns):\n",
      " #   Column                   Non-Null Count  Dtype  \n",
      "---  ------                   --------------  -----  \n",
      " 0   avgAnnCount              3047 non-null   float64\n",
      " 1   avgDeathsPerYear         3047 non-null   int64  \n",
      " 2   TARGET_deathRate         3047 non-null   float64\n",
      " 3   incidenceRate            3047 non-null   float64\n",
      " 4   medIncome                3047 non-null   int64  \n",
      " 5   popEst2015               3047 non-null   int64  \n",
      " 6   povertyPercent           3047 non-null   float64\n",
      " 7   studyPerCap              3047 non-null   float64\n",
      " 8   MedianAge                3047 non-null   float64\n",
      " 9   MedianAgeMale            3047 non-null   float64\n",
      " 10  MedianAgeFemale          3047 non-null   float64\n",
      " 11  AvgHouseholdSize         3047 non-null   float64\n",
      " 12  PercentMarried           3047 non-null   float64\n",
      " 13  PctNoHS18_24             3047 non-null   float64\n",
      " 14  PctHS18_24               3047 non-null   float64\n",
      " 15  PctBachDeg18_24          3047 non-null   float64\n",
      " 16  PctHS25_Over             3047 non-null   float64\n",
      " 17  PctBachDeg25_Over        3047 non-null   float64\n",
      " 18  PctUnemployed16_Over     3047 non-null   float64\n",
      " 19  PctPrivateCoverage       3047 non-null   float64\n",
      " 20  PctPrivateCoverageAlone  3047 non-null   float64\n",
      " 21  PctEmpPrivCoverage       3047 non-null   float64\n",
      " 22  PctPublicCoverage        3047 non-null   float64\n",
      " 23  PctPublicCoverageAlone   3047 non-null   float64\n",
      " 24  PctWhite                 3047 non-null   float64\n",
      " 25  PctBlack                 3047 non-null   float64\n",
      " 26  PctAsian                 3047 non-null   float64\n",
      " 27  PctOtherRace             3047 non-null   float64\n",
      " 28  PctMarriedHouseholds     3047 non-null   float64\n",
      " 29  BirthRate                3047 non-null   float64\n",
      " 30  binnedInc_avg            3047 non-null   float64\n",
      " 31  PctEmployed16_Over       3047 non-null   float64\n",
      "dtypes: float64(29), int64(3)\n",
      "memory usage: 785.6 KB\n"
     ]
    }
   ],
   "source": [
    "df3_new.info()"
   ]
  },
  {
   "cell_type": "code",
   "execution_count": 119,
   "metadata": {},
   "outputs": [
    {
     "data": {
      "text/plain": [
       "const                       4.370883e-29\n",
       "avgAnnCount                 6.951855e-05\n",
       "avgDeathsPerYear            1.059207e-05\n",
       "incidenceRate              1.417340e-139\n",
       "medIncome                   3.953841e-01\n",
       "popEst2015                  4.997544e-03\n",
       "povertyPercent              9.552924e-02\n",
       "studyPerCap                 8.914006e-01\n",
       "MedianAge                   8.089546e-01\n",
       "MedianAgeMale               2.242082e-02\n",
       "MedianAgeFemale             4.062208e-01\n",
       "AvgHouseholdSize            3.585496e-01\n",
       "PercentMarried              1.277497e-17\n",
       "PctNoHS18_24                8.582819e-03\n",
       "PctHS18_24                  3.438286e-05\n",
       "PctBachDeg18_24             4.537152e-01\n",
       "PctHS25_Over                7.257148e-06\n",
       "PctBachDeg25_Over           1.393259e-12\n",
       "PctUnemployed16_Over        8.164913e-01\n",
       "PctPrivateCoverage          1.676224e-01\n",
       "PctPrivateCoverageAlone     7.530674e-01\n",
       "PctEmpPrivCoverage          1.200661e-03\n",
       "PctPublicCoverage           1.439461e-01\n",
       "PctPublicCoverageAlone      1.353976e-01\n",
       "PctWhite                    1.980943e-02\n",
       "PctBlack                    3.757508e-01\n",
       "PctAsian                    7.197473e-01\n",
       "PctOtherRace                5.916206e-13\n",
       "PctMarriedHouseholds        8.223836e-19\n",
       "BirthRate                   1.071320e-05\n",
       "binnedInc_avg               8.447819e-01\n",
       "PctEmployed16_Over          1.209590e-10\n",
       "dtype: float64"
      ]
     },
     "execution_count": 119,
     "metadata": {},
     "output_type": "execute_result"
    }
   ],
   "source": [
    "## Let's try backward elimination technique as well and see if we can make any progress or not.\n",
    "\n",
    "\n",
    "X = df3_new.drop(['TARGET_deathRate'], axis = 1)\n",
    "y = df3_new['TARGET_deathRate']\n",
    "#Adding constant column of ones, mandatory for sm.OLS model\n",
    "X_1 = sm.add_constant(X)\n",
    "#Fitting sm.OLS model\n",
    "model = sm.OLS(y,X_1).fit()\n",
    "model.pvalues"
   ]
  },
  {
   "cell_type": "code",
   "execution_count": 120,
   "metadata": {},
   "outputs": [
    {
     "name": "stdout",
     "output_type": "stream",
     "text": [
      "['avgAnnCount', 'avgDeathsPerYear', 'incidenceRate', 'popEst2015', 'MedianAgeMale', 'PercentMarried', 'PctNoHS18_24', 'PctHS18_24', 'PctHS25_Over', 'PctBachDeg25_Over', 'PctPrivateCoverage', 'PctEmpPrivCoverage', 'PctPublicCoverage', 'PctPublicCoverageAlone', 'PctWhite', 'PctOtherRace', 'PctMarriedHouseholds', 'BirthRate', 'PctEmployed16_Over']\n"
     ]
    }
   ],
   "source": [
    "#Backward Elimination\n",
    "cols = list(X.columns)\n",
    "pmax = 1\n",
    "while (len(cols)>0):\n",
    "    p= []\n",
    "    X_1 = X[cols]\n",
    "    X_1 = sm.add_constant(X_1)\n",
    "    model = sm.OLS(y,X_1).fit()\n",
    "    p = pd.Series(model.pvalues.values[1:],index = cols)      \n",
    "    pmax = max(p)\n",
    "    feature_with_p_max = p.idxmax()\n",
    "    if(pmax>0.05):\n",
    "        cols.remove(feature_with_p_max)\n",
    "    else:\n",
    "        break\n",
    "selected_features_BE = cols\n",
    "print(selected_features_BE)"
   ]
  },
  {
   "cell_type": "code",
   "execution_count": 121,
   "metadata": {},
   "outputs": [
    {
     "name": "stdout",
     "output_type": "stream",
     "text": [
      "train score:  54.30501585959744\n",
      "test score:  46.83907591057236\n",
      "Rmse:  19.786900566246246\n"
     ]
    }
   ],
   "source": [
    "## We will use the features obtained from our RFE model to get the important features for our model building.\n",
    "\n",
    "X = df3_new[['avgAnnCount', 'avgDeathsPerYear', 'incidenceRate', 'popEst2015', 'MedianAgeMale', 'PercentMarried', \n",
    "             'PctNoHS18_24', 'PctHS18_24', 'PctHS25_Over', 'PctBachDeg25_Over', 'PctPrivateCoverage', 'PctEmpPrivCoverage', \n",
    "             'PctPublicCoverage', 'PctPublicCoverageAlone', 'PctWhite', 'PctOtherRace', 'PctMarriedHouseholds', 'BirthRate', \n",
    "             'PctEmployed16_Over']] #IV\n",
    "y = df3_new['TARGET_deathRate'] #DV\n",
    "\n",
    "from sklearn.model_selection import train_test_split\n",
    "X_train, X_test , y_train, y_test = train_test_split(X,y, test_size = 0.30, random_state = 1)\n",
    "\n",
    "from sklearn.linear_model import LinearRegression\n",
    "model = LinearRegression()\n",
    "model.fit(X_train, y_train)\n",
    "y_pred = model.predict(X_test)\n",
    "print('train score: ',model.score(X_train, y_train)*100)\n",
    "print('test score: ', model.score(X_test, y_test)*100)\n",
    "\n",
    "from sklearn.metrics import mean_squared_error\n",
    "mse = mean_squared_error(y_test, y_pred)\n",
    "rmse = np.sqrt(mse)\n",
    "print('Rmse: ', rmse)"
   ]
  },
  {
   "cell_type": "code",
   "execution_count": 122,
   "metadata": {},
   "outputs": [
    {
     "data": {
      "text/plain": [
       "[35.89350503782573,\n",
       " 85.14700539701575,\n",
       " 225.5471400953659,\n",
       " 29.131705246559815,\n",
       " 45.85463097568963,\n",
       " 1.1388241944289352,\n",
       " 2.052832909687107,\n",
       " 563.4799413895065,\n",
       " 679.3644701262249,\n",
       " 46.19152980459789,\n",
       " 638.4330248581207,\n",
       " 9.781712325144062,\n",
       " 25.68127226120702,\n",
       " 5.586249064877729,\n",
       " 94.23894381700595,\n",
       " 39.73393153173606,\n",
       " 15.720114441250484,\n",
       " 2735.5247590684157,\n",
       " 2463.1715086776517,\n",
       " 236.97103586893417,\n",
       " 1238.564627101992,\n",
       " 465.5437446865854,\n",
       " 184.5806968897796,\n",
       " 7.0881913494597715,\n",
       " 2.413591755063257,\n",
       " 1.9220989467616612,\n",
       " 535.9833900742723,\n",
       " 10.851259132932714,\n",
       " 69.63747115100902,\n",
       " 211.22150812171213]"
      ]
     },
     "execution_count": 122,
     "metadata": {},
     "output_type": "execute_result"
    }
   ],
   "source": [
    "## Let's try Vif technique.\n",
    "\n",
    "### calculating the vif values as multicollinearity exists (as stated by warning 2)\n",
    "\n",
    "X = df3_new.drop(['TARGET_deathRate'], axis = 1)\n",
    "\n",
    "from statsmodels.stats.outliers_influence import variance_inflation_factor\n",
    "\n",
    "[variance_inflation_factor(X.values, j) for j in range(1, X.shape[1])]"
   ]
  },
  {
   "cell_type": "code",
   "execution_count": 123,
   "metadata": {},
   "outputs": [],
   "source": [
    "# removing collinear variables\n",
    "# function definition\n",
    "\n",
    "def calculate_vif(x):\n",
    "    thresh = 5.0\n",
    "    output = pd.DataFrame()\n",
    "    k = x.shape[1]\n",
    "    vif = [variance_inflation_factor(x.values, j) for j in range(x.shape[1])]\n",
    "    for i in range(1,k):\n",
    "        print(\"Iteration no.\")\n",
    "        print(i)\n",
    "        print(vif)\n",
    "        a = np.argmax(vif)\n",
    "        print(\"Max VIF is for variable no.:\")\n",
    "        print(a)\n",
    "        if vif[a] <= thresh :\n",
    "            break\n",
    "        if i == 1 :          \n",
    "            output = x.drop(x.columns[a], axis = 1)\n",
    "            vif = [variance_inflation_factor(output.values, j) for j in range(output.shape[1])]\n",
    "        elif i > 1 :\n",
    "            output = output.drop(output.columns[a],axis = 1)\n",
    "            vif = [variance_inflation_factor(output.values, j) for j in range(output.shape[1])]\n",
    "    return(output)"
   ]
  },
  {
   "cell_type": "code",
   "execution_count": 124,
   "metadata": {},
   "outputs": [
    {
     "name": "stdout",
     "output_type": "stream",
     "text": [
      "Iteration no.\n",
      "1\n",
      "[11.520670263642439, 35.89350503782573, 85.14700539701575, 225.5471400953659, 29.131705246559815, 45.85463097568963, 1.1388241944289352, 2.052832909687107, 563.4799413895065, 679.3644701262249, 46.19152980459789, 638.4330248581207, 9.781712325144062, 25.68127226120702, 5.586249064877729, 94.23894381700595, 39.73393153173606, 15.720114441250484, 2735.5247590684157, 2463.1715086776517, 236.97103586893417, 1238.564627101992, 465.5437446865854, 184.5806968897796, 7.0881913494597715, 2.413591755063257, 1.9220989467616612, 535.9833900742723, 10.851259132932714, 69.63747115100902, 211.22150812171213]\n",
      "Max VIF is for variable no.:\n",
      "18\n",
      "Iteration no.\n",
      "2\n",
      "[11.520554724505713, 35.816855906093245, 84.2549756285948, 223.4072264094198, 29.019124195988844, 45.21119727955955, 1.1385216444067954, 2.0511753463822684, 560.2686504718971, 679.1643901773294, 46.1399483341027, 638.401833480649, 9.719969610398088, 25.68088828265857, 5.577843374647842, 93.61393446276817, 39.67146204023095, 15.693775852713488, 469.74672405756775, 212.31863199839268, 432.8531180131393, 158.31908219474465, 184.46377538183688, 7.085621619526892, 2.4126168311555434, 1.9101064393394815, 535.2756400488374, 10.752500935654327, 69.3540563000451, 210.95494708597144]\n",
      "Max VIF is for variable no.:\n",
      "9\n",
      "Iteration no.\n",
      "3\n",
      "[11.514365289361798, 35.70814174751037, 84.12262419219213, 223.0977996481506, 28.913227032655556, 45.211141608136636, 1.138315697856564, 2.0498492676423234, 252.3055442829482, 46.043419641790784, 638.2728117767746, 9.537157098681693, 25.504311863411914, 5.5776727074761565, 93.16141343396734, 39.50196636691505, 15.483095907133784, 467.0481773745408, 212.1274595524445, 368.0958093177422, 147.05127160658958, 182.423126864405, 6.768281744453373, 2.411179617820752, 1.9065333431659872, 535.2466593224186, 10.752494416958914, 69.34136847287769, 209.61635531044473]\n",
      "Max VIF is for variable no.:\n",
      "10\n",
      "Iteration no.\n",
      "4\n",
      "[11.49360065863282, 35.64811781659091, 83.96891487965223, 218.96112457153808, 28.90017936959529, 44.26318451091349, 1.137067161456156, 2.0496814215846917, 229.36667383349757, 44.3381786574018, 9.535165682778432, 25.31235765069683, 5.549996236253229, 91.65095189305221, 39.12226063730851, 15.472394382448172, 466.0904158766555, 209.59389807793676, 365.2307840863533, 146.01415841384411, 182.25349018065342, 6.742679352072904, 2.410967725823353, 1.8945079196824954, 170.56954915388002, 10.582097639601557, 69.33211355607976, 152.15890190686923]\n",
      "Max VIF is for variable no.:\n",
      "16\n",
      "Iteration no.\n",
      "5\n",
      "[11.428347206378575, 35.51217542746016, 81.8407907579526, 218.33688373776562, 28.89409383657385, 43.49107369113379, 1.1369060655454406, 2.049173141213433, 228.5464704674582, 44.33656075298187, 9.295502348421836, 25.103256456918174, 5.538984701001307, 89.46252641791347, 35.733561106149, 15.453542554195199, 95.97957482431437, 365.23067326081167, 134.38063516289577, 174.76134356034402, 6.306888626135577, 2.3978806908623955, 1.8937863634165757, 162.89578333249935, 10.478566370357266, 69.33070464720619, 139.51671830683682]\n",
      "Max VIF is for variable no.:\n",
      "17\n",
      "Iteration no.\n",
      "6\n",
      "[11.335145255112405, 35.50692289337306, 80.43073697568255, 218.2695779433788, 28.70847040905597, 43.47542792802911, 1.1344769822273457, 2.0491651898271095, 111.74429506863544, 44.31491844342099, 9.246060976599288, 24.71969540536402, 5.52849840106178, 88.17832327407727, 35.602514698626095, 15.397381090443059, 93.32033876990958, 48.0593636471068, 168.54185901856158, 6.233327817327825, 2.387439875423963, 1.890205342591475, 162.29103334862074, 10.32424930705951, 68.96098995192534, 132.0074656231966]\n",
      "Max VIF is for variable no.:\n",
      "3\n",
      "Iteration no.\n",
      "7\n",
      "[11.330315865783273, 35.418673421987506, 79.97532121057887, 28.671629840219357, 38.93844897703658, 1.1328557511565331, 2.047448853309265, 111.03368642053951, 43.86109133732558, 9.019521306622806, 24.48561468126005, 5.422028181949451, 87.72458724357007, 33.99827710198984, 15.24199411629925, 84.47445867913248, 47.87435755059307, 167.51708430362777, 6.225123989546129, 2.305246750177508, 1.8818248903685515, 151.1650587533524, 10.291286462123875, 36.301663846331905, 131.45375341287325]\n",
      "Max VIF is for variable no.:\n",
      "17\n",
      "Iteration no.\n",
      "8\n",
      "[11.30197226992779, 35.33190761273296, 78.65970680910011, 28.666575167495957, 37.090288389199216, 1.1316646970509976, 2.0474220593196906, 92.25189817755393, 43.644358744947894, 8.922686325536551, 24.40332950057884, 5.417412125490457, 87.70484580497948, 33.99301272060715, 15.186838002381009, 77.36089788606209, 47.82555301355936, 2.52389863934647, 2.0150873105017593, 1.788168835863783, 126.77972469512575, 10.281209065442802, 35.543258739431366, 128.99642626664345]\n",
      "Max VIF is for variable no.:\n",
      "23\n",
      "Iteration no.\n",
      "9\n",
      "[11.219107007670484, 34.97781083120988, 76.70861165813785, 28.586382119286657, 36.819915613585124, 1.1315840340177237, 2.0464205806562163, 92.24985931437973, 42.76967497427516, 8.911722893831003, 24.40191176248586, 5.384709535222904, 84.61248145623811, 28.54956259325531, 14.182358225941858, 67.3437291991273, 47.03749097819586, 2.519583726094855, 2.009655882550258, 1.7394556583684821, 125.19406074918686, 9.560513745205878, 35.539084787912316]\n",
      "Max VIF is for variable no.:\n",
      "20\n",
      "Iteration no.\n",
      "10\n",
      "[11.218716296364619, 34.05869009970478, 76.42290590464587, 27.859089491464417, 36.79478955178663, 1.1278943449305228, 2.0448973736659704, 77.61607779619773, 38.44815190630037, 8.67982213466572, 24.2193533806748, 5.324212316659277, 83.35088426533586, 28.490754199399873, 14.169033200048819, 64.08046310841655, 46.89723018607832, 2.2255686059120086, 1.9866991744963478, 1.729798218543933, 9.338327948206185, 33.724996427766825]\n",
      "Max VIF is for variable no.:\n",
      "12\n",
      "Iteration no.\n",
      "11\n",
      "[11.174948345124395, 34.05329733380525, 74.57223119329302, 27.850792153579086, 36.33845999246526, 1.1257045917491415, 2.044884275050933, 59.61777710633016, 38.033122198079944, 8.562916059838269, 22.40135893108073, 5.284595585245103, 18.78667040066002, 13.959347802454126, 48.91621425190785, 46.55392177663098, 2.2232540735596817, 1.971437866571038, 1.6597088156649298, 9.268991524118267, 33.165739969170694]\n",
      "Max VIF is for variable no.:\n",
      "2\n",
      "Iteration no.\n",
      "12\n",
      "[11.076901964085238, 34.00884455632724, 27.63629844109026, 35.539819823115124, 1.1233385406124528, 2.043507318168051, 54.616052605826575, 38.0107000099255, 8.549058695363593, 22.24408542984846, 5.282757187799138, 18.76892194635067, 13.893149449868295, 37.86860183365891, 45.15109965918299, 2.213833971551238, 1.9679550629234117, 1.641838204372128, 9.252545792461994, 33.14361578006941]\n",
      "Max VIF is for variable no.:\n",
      "6\n",
      "Iteration no.\n",
      "13\n",
      "[10.998830713371751, 33.9979084043956, 27.443367176411435, 35.44977993259229, 1.122817724558503, 2.001535215404224, 37.972036635059865, 7.632297264578327, 17.998463266066143, 5.093917816597708, 17.414756151499237, 13.888402385476489, 35.45667903764752, 40.08240563479234, 2.151374973078994, 1.9244352075530966, 1.5727921398259783, 9.24324107946931, 33.14260719979264]\n",
      "Max VIF is for variable no.:\n",
      "13\n",
      "Iteration no.\n",
      "14\n",
      "[10.987748579880648, 33.55041471429776, 27.040493328581462, 22.646049693463617, 1.12211474552157, 2.0001202486021743, 37.64810075613376, 7.425447480694631, 16.344717274180436, 5.035259002112195, 17.2408601355619, 12.675655214814, 35.10529093659536, 2.054672598414634, 1.9225700730963724, 1.5678923112439593, 9.228396386807908, 33.12647448510762]\n",
      "Max VIF is for variable no.:\n",
      "6\n",
      "Iteration no.\n",
      "15\n",
      "[10.981925892161492, 33.48589852364151, 26.93920810764459, 20.357301261585615, 1.122080414206374, 2.0000891443129714, 7.2766194001708575, 15.817936028097941, 5.033970793525156, 17.109867596625655, 12.4767108379061, 32.725647129004365, 2.027052345182164, 1.9225079545275312, 1.523448667918992, 9.066902181403425, 32.075082683018174]\n",
      "Max VIF is for variable no.:\n",
      "1\n",
      "Iteration no.\n",
      "16\n",
      "[8.909491850686367, 8.500496519592012, 20.284464395667918, 1.1219918533111148, 1.9999253582013041, 7.273117282600568, 15.78100935700583, 5.0052713374234665, 17.108971877009743, 12.15324967013358, 32.71260559593849, 2.0223396853188595, 1.9124500168192036, 1.518174473041153, 8.996496105735218, 32.02112399154726]\n",
      "Max VIF is for variable no.:\n",
      "10\n",
      "Iteration no.\n",
      "17\n",
      "[8.85130887686544, 8.448446156372343, 19.379011112878914, 1.1129573251827607, 1.9995567325243015, 7.260614500362181, 14.935702991457259, 4.822027857221778, 16.672424815491585, 12.102239344892267, 2.01378695027886, 1.903105573080974, 1.5004869715602296, 8.934210807633116, 22.313672482753987]\n",
      "Max VIF is for variable no.:\n",
      "14\n",
      "Iteration no.\n",
      "18\n",
      "[8.850405621137279, 8.444039680276848, 15.863445290749711, 1.1102309532793513, 1.997772559210495, 6.889081025835568, 11.931229953797535, 4.6923571873272705, 10.0370801060257, 11.735763754138421, 2.0089337954894986, 1.8642182386244062, 1.4898880380721982, 8.623066555774555]\n",
      "Max VIF is for variable no.:\n",
      "2\n",
      "Iteration no.\n",
      "19\n",
      "[8.796056599661148, 8.422912045974716, 1.1097905787401399, 1.997589442551622, 6.453096794498279, 11.405726229325188, 4.666768565134891, 9.983464718738407, 7.808529980677739, 1.8274712510693847, 1.8591417853969443, 1.4823009983460835, 8.393145811555204]\n",
      "Max VIF is for variable no.:\n",
      "5\n",
      "Iteration no.\n",
      "20\n",
      "[8.789321978296265, 8.42282592364276, 1.109790474333606, 1.9636367895109126, 6.065536983581426, 4.6638276603848885, 9.442481788350353, 6.446896748004585, 1.7991894938007318, 1.8481509546691228, 1.4808067226960722, 7.370698485032212]\n",
      "Max VIF is for variable no.:\n",
      "6\n",
      "Iteration no.\n",
      "21\n",
      "[8.767307524210572, 8.419639131856961, 1.1009418240132869, 1.9402025659681557, 5.973036588230776, 2.7691483652816333, 6.384487770305423, 1.7922996548567272, 1.7451214893223164, 1.4807114926221254, 6.538017857491941]\n",
      "Max VIF is for variable no.:\n",
      "0\n",
      "Iteration no.\n",
      "22\n",
      "[1.4830246440561394, 1.0948182000446411, 1.9399766262457552, 5.970185343213131, 2.6932650851128805, 6.366627422081134, 1.789189325178298, 1.744513834535992, 1.4790759733852255, 6.467227012596145]\n",
      "Max VIF is for variable no.:\n",
      "9\n",
      "Iteration no.\n",
      "23\n",
      "[1.4784120590771446, 1.0878832108453453, 1.9137427971232543, 4.653767248282409, 2.3861345369964644, 5.776523420010189, 1.7623114897268888, 1.7439821696112776, 1.4737379809440547]\n",
      "Max VIF is for variable no.:\n",
      "5\n",
      "Iteration no.\n",
      "24\n",
      "[1.4758775263853345, 1.0833276904207387, 1.83890706574913, 2.7768139948901807, 2.3364790738779564, 1.4110776922863313, 1.7324098424054386, 1.472185685350594]\n",
      "Max VIF is for variable no.:\n",
      "3\n"
     ]
    }
   ],
   "source": [
    "## passing X to the function so that the multicollinearity gets removed.\n",
    "train_out = calculate_vif(X)"
   ]
  },
  {
   "cell_type": "code",
   "execution_count": 125,
   "metadata": {},
   "outputs": [
    {
     "data": {
      "text/html": [
       "<div>\n",
       "<style scoped>\n",
       "    .dataframe tbody tr th:only-of-type {\n",
       "        vertical-align: middle;\n",
       "    }\n",
       "\n",
       "    .dataframe tbody tr th {\n",
       "        vertical-align: top;\n",
       "    }\n",
       "\n",
       "    .dataframe thead th {\n",
       "        text-align: right;\n",
       "    }\n",
       "</style>\n",
       "<table border=\"1\" class=\"dataframe\">\n",
       "  <thead>\n",
       "    <tr style=\"text-align: right;\">\n",
       "      <th></th>\n",
       "      <th>popEst2015</th>\n",
       "      <th>studyPerCap</th>\n",
       "      <th>MedianAge</th>\n",
       "      <th>PctNoHS18_24</th>\n",
       "      <th>PctBachDeg18_24</th>\n",
       "      <th>PctBlack</th>\n",
       "      <th>PctAsian</th>\n",
       "      <th>PctOtherRace</th>\n",
       "    </tr>\n",
       "  </thead>\n",
       "  <tbody>\n",
       "    <tr>\n",
       "      <th>1</th>\n",
       "      <td>43269</td>\n",
       "      <td>23.111234</td>\n",
       "      <td>33.0</td>\n",
       "      <td>6.1</td>\n",
       "      <td>7.5</td>\n",
       "      <td>0.969102</td>\n",
       "      <td>2.246233</td>\n",
       "      <td>3.741352</td>\n",
       "    </tr>\n",
       "    <tr>\n",
       "      <th>2</th>\n",
       "      <td>21026</td>\n",
       "      <td>47.560164</td>\n",
       "      <td>45.0</td>\n",
       "      <td>24.0</td>\n",
       "      <td>9.5</td>\n",
       "      <td>0.739673</td>\n",
       "      <td>0.465898</td>\n",
       "      <td>2.747358</td>\n",
       "    </tr>\n",
       "    <tr>\n",
       "      <th>3</th>\n",
       "      <td>75882</td>\n",
       "      <td>342.637253</td>\n",
       "      <td>42.8</td>\n",
       "      <td>20.2</td>\n",
       "      <td>2.5</td>\n",
       "      <td>0.782626</td>\n",
       "      <td>1.161359</td>\n",
       "      <td>1.362643</td>\n",
       "    </tr>\n",
       "    <tr>\n",
       "      <th>4</th>\n",
       "      <td>10321</td>\n",
       "      <td>0.000000</td>\n",
       "      <td>48.3</td>\n",
       "      <td>14.9</td>\n",
       "      <td>2.0</td>\n",
       "      <td>0.270192</td>\n",
       "      <td>0.665830</td>\n",
       "      <td>0.492135</td>\n",
       "    </tr>\n",
       "    <tr>\n",
       "      <th>5</th>\n",
       "      <td>61023</td>\n",
       "      <td>180.259902</td>\n",
       "      <td>45.4</td>\n",
       "      <td>29.9</td>\n",
       "      <td>4.5</td>\n",
       "      <td>1.653205</td>\n",
       "      <td>1.538057</td>\n",
       "      <td>3.314635</td>\n",
       "    </tr>\n",
       "  </tbody>\n",
       "</table>\n",
       "</div>"
      ],
      "text/plain": [
       "   popEst2015  studyPerCap  MedianAge  PctNoHS18_24  PctBachDeg18_24  \\\n",
       "1       43269    23.111234       33.0           6.1              7.5   \n",
       "2       21026    47.560164       45.0          24.0              9.5   \n",
       "3       75882   342.637253       42.8          20.2              2.5   \n",
       "4       10321     0.000000       48.3          14.9              2.0   \n",
       "5       61023   180.259902       45.4          29.9              4.5   \n",
       "\n",
       "   PctBlack  PctAsian  PctOtherRace  \n",
       "1  0.969102  2.246233      3.741352  \n",
       "2  0.739673  0.465898      2.747358  \n",
       "3  0.782626  1.161359      1.362643  \n",
       "4  0.270192  0.665830      0.492135  \n",
       "5  1.653205  1.538057      3.314635  "
      ]
     },
     "execution_count": 125,
     "metadata": {},
     "output_type": "execute_result"
    }
   ],
   "source": [
    "## includes only the relevant features.\n",
    "train_out.head()"
   ]
  },
  {
   "cell_type": "code",
   "execution_count": 126,
   "metadata": {},
   "outputs": [
    {
     "data": {
      "text/plain": [
       "Index(['popEst2015', 'studyPerCap', 'MedianAge', 'PctNoHS18_24',\n",
       "       'PctBachDeg18_24', 'PctBlack', 'PctAsian', 'PctOtherRace'],\n",
       "      dtype='object')"
      ]
     },
     "execution_count": 126,
     "metadata": {},
     "output_type": "execute_result"
    }
   ],
   "source": [
    "train_out.columns"
   ]
  },
  {
   "cell_type": "code",
   "execution_count": 127,
   "metadata": {},
   "outputs": [
    {
     "name": "stdout",
     "output_type": "stream",
     "text": [
      "train score:  18.695923172379214\n",
      "test score:  13.920477653975672\n",
      "Rmse:  25.178591668208302\n"
     ]
    }
   ],
   "source": [
    "## We will use the features obtained from our vif model to get the important features for our model building.\n",
    "\n",
    "X = df3_new[[ 'popEst2015', 'studyPerCap', 'MedianAge', 'PctNoHS18_24',\n",
    "       'PctBachDeg18_24', 'PctBlack', 'PctAsian', 'PctOtherRace']] #IV\n",
    "y = df3_new['TARGET_deathRate'] #DV\n",
    "\n",
    "from sklearn.model_selection import train_test_split\n",
    "X_train, X_test , y_train, y_test = train_test_split(X,y, test_size = 0.30, random_state = 1)\n",
    "\n",
    "from sklearn.linear_model import LinearRegression\n",
    "model = LinearRegression()\n",
    "model.fit(X_train, y_train)\n",
    "y_pred = model.predict(X_test)\n",
    "print('train score: ',model.score(X_train, y_train)*100)\n",
    "print('test score: ', model.score(X_test, y_test)*100)\n",
    "\n",
    "from sklearn.metrics import mean_squared_error\n",
    "mse = mean_squared_error(y_test, y_pred)\n",
    "rmse = np.sqrt(mse)\n",
    "print('Rmse: ', rmse)"
   ]
  },
  {
   "cell_type": "code",
   "execution_count": 128,
   "metadata": {},
   "outputs": [],
   "source": [
    "## Thus, even after removing m/c, we are unable to get a good rmse score."
   ]
  },
  {
   "cell_type": "code",
   "execution_count": 129,
   "metadata": {},
   "outputs": [
    {
     "name": "stdout",
     "output_type": "stream",
     "text": [
      "train score:  18.695923172379214\n",
      "test score:  13.920477653975672\n",
      "Rmse:  25.178591668208302\n"
     ]
    }
   ],
   "source": [
    "## Let's try different set of modellings for same set of procedures.\n",
    "## Like for vif only, we will make lasso and ridge both and check if we are able to get a good rmse score or not.\n",
    "\n",
    "X = df3_new[[ 'popEst2015', 'studyPerCap', 'MedianAge', 'PctNoHS18_24',\n",
    "       'PctBachDeg18_24', 'PctBlack', 'PctAsian', 'PctOtherRace']] #IV\n",
    "y = df3_new['TARGET_deathRate'] #DV\n",
    "\n",
    "from sklearn.model_selection import train_test_split\n",
    "X_train, X_test , y_train, y_test = train_test_split(X,y, test_size = 0.30, random_state = 1)\n",
    "\n",
    "from sklearn.linear_model import LinearRegression\n",
    "model = LinearRegression()\n",
    "model.fit(X_train, y_train)\n",
    "y_pred = model.predict(X_test)\n",
    "print('train score: ',model.score(X_train, y_train)*100)\n",
    "print('test score: ', model.score(X_test, y_test)*100)\n",
    "\n",
    "from sklearn.metrics import mean_squared_error\n",
    "mse = mean_squared_error(y_test, y_pred)\n",
    "rmse = np.sqrt(mse)\n",
    "print('Rmse: ', rmse)"
   ]
  },
  {
   "cell_type": "code",
   "execution_count": 163,
   "metadata": {},
   "outputs": [
    {
     "name": "stdout",
     "output_type": "stream",
     "text": [
      "Rmse:  25.178591602998857\n",
      "Rmse100:  25.177955636653575\n"
     ]
    }
   ],
   "source": [
    "# Ridge Regression with low alpha value\n",
    "\n",
    "from sklearn.linear_model import Ridge\n",
    "\n",
    "rr = Ridge(alpha=0.01) \n",
    "# restricted and in this case linear and ridge regression resembles\n",
    "rr.fit(X_train, y_train)\n",
    "y_pred = rr.predict(X_test)\n",
    "\n",
    "Ridge_train_score = rr.score(X_train,y_train)\n",
    "Ridge_test_score = rr.score(X_test, y_test)\n",
    "\n",
    "from sklearn.metrics import mean_squared_error\n",
    "mse = mean_squared_error(y_test, y_pred)\n",
    "rmse = np.sqrt(mse)\n",
    "print('Rmse: ', rmse)\n",
    "\n",
    "# Ridge Regression with high alpha value\n",
    "\n",
    "\n",
    "rr100 = Ridge(alpha=100) #  comparison with alpha value\n",
    "rr100.fit(X_train, y_train)\n",
    "y_pred = rr100.predict(X_test)\n",
    "\n",
    "Ridge_train_score100 = rr100.score(X_train,y_train)\n",
    "Ridge_test_score100 = rr100.score(X_test, y_test)\n",
    "\n",
    "from sklearn.metrics import mean_squared_error\n",
    "mse = mean_squared_error(y_test, y_pred)\n",
    "rmse = np.sqrt(mse)\n",
    "print('Rmse100: ', rmse)"
   ]
  },
  {
   "cell_type": "code",
   "execution_count": 134,
   "metadata": {},
   "outputs": [
    {
     "name": "stdout",
     "output_type": "stream",
     "text": [
      "0.1869592317237827\n",
      "0.13920478099846312\n",
      "0.1869582912321449\n",
      "0.1869582912321449\n"
     ]
    }
   ],
   "source": [
    "print(Ridge_train_score)\n",
    "print(Ridge_test_score)\n",
    "print(Ridge_train_score100)\n",
    "print(Ridge_train_score100)"
   ]
  },
  {
   "cell_type": "code",
   "execution_count": 137,
   "metadata": {},
   "outputs": [
    {
     "name": "stdout",
     "output_type": "stream",
     "text": [
      "Rmse:  25.16892998559691\n",
      "training score: 0.18657594775481226\n",
      "test score:  0.13986526896751783\n",
      "number of features used:  16\n"
     ]
    }
   ],
   "source": [
    "## Let's try Lasso for the same\n",
    "\n",
    "from sklearn.linear_model import Lasso\n",
    "\n",
    "lasso = Lasso()\n",
    "lasso.fit(X_train,y_train)\n",
    "y_pred = lasso.predict(X_test)\n",
    "\n",
    "\n",
    "train_score=lasso.score(X_train,y_train)\n",
    "test_score=lasso.score(X_test,y_test)\n",
    "\n",
    "coeff_used = len(a)\n",
    "\n",
    "\n",
    "from sklearn.metrics import mean_squared_error\n",
    "mse = mean_squared_error(y_test, y_pred)\n",
    "rmse = np.sqrt(mse)\n",
    "print('Rmse: ', rmse)\n",
    "\n",
    "print((\"training score:\"), train_score) \n",
    "print((\"test score: \"), test_score)\n",
    "print((\"number of features used: \"), coeff_used)"
   ]
  },
  {
   "cell_type": "code",
   "execution_count": 139,
   "metadata": {},
   "outputs": [
    {
     "name": "stdout",
     "output_type": "stream",
     "text": [
      "[-7.244607943496971e-07, -0.0011231623335935864, -0.0018530999667213405, -0.1260340301536731, -1.505359679280507, 0.5028219831019722, -0.7276250652699854, -1.3835889736955682]\n",
      "number of coef. used:  8\n",
      "Rmse for alpha=0.01 :  25.16892998559691\n",
      "training score for alpha=0.01: 0.18695919339462697\n",
      "test score for alpha =0.01:  0.13921472588497752\n",
      "number of features used: for (alpha =0.01): 8\n"
     ]
    }
   ],
   "source": [
    "# fitting a lasso model\n",
    "lasso001 = Lasso(alpha=0.01, max_iter=10e5)\n",
    "lasso001.fit(X_train,y_train)\n",
    "y_pred = lasso.predict(X_test)\n",
    "\n",
    "\n",
    "# finding number of coef. used\n",
    "\n",
    "a=[]\n",
    "for i in lasso001.coef_ :\n",
    "    if(i!=0):\n",
    "        a.append(i)\n",
    "print(a)\n",
    "print('number of coef. used: ', len(a))\n",
    "\n",
    "\n",
    "# checking the score of lasso model\n",
    "train_score001=lasso001.score(X_train,y_train)\n",
    "test_score001=lasso001.score(X_test,y_test)\n",
    "coeff_used001 = len(a)\n",
    "\n",
    "\n",
    "# printing the scores of lasso model\n",
    "\n",
    "from sklearn.metrics import mean_squared_error\n",
    "mse = mean_squared_error(y_test, y_pred)\n",
    "rmse = np.sqrt(mse)\n",
    "print('Rmse for alpha=0.01 : ', rmse)\n",
    "\n",
    "print((\"training score for alpha=0.01:\"), train_score001) \n",
    "print((\"test score for alpha =0.01: \"), test_score001)\n",
    "print((\"number of features used: for (alpha =0.01):\"), coeff_used001)"
   ]
  },
  {
   "cell_type": "code",
   "execution_count": 140,
   "metadata": {},
   "outputs": [
    {
     "name": "stdout",
     "output_type": "stream",
     "text": [
      "[-7.168473388354961e-07, -0.001123282697253191, -0.0018619041600081937, -0.1263502872803549, -1.5058638365468249, 0.5028696422024855, -0.7290101536440357, -1.3843011332956763]\n",
      "number of coef. used:  8\n",
      "Rmse for alpha=0.01 :  25.178590208335883\n",
      "training score for alpha=0.0001: 0.18695923171995932\n",
      "test score for alpha =0.0001:  0.1392048763587762\n",
      "number of features used: for alpha =0.0001: 8\n"
     ]
    }
   ],
   "source": [
    "# fitting a lasso model with different alpha value say 0.0001\n",
    "\n",
    "lasso00001 = Lasso(alpha=0.0001, max_iter=10e5)\n",
    "lasso00001.fit(X_train,y_train)\n",
    "y_pred = lasso00001.predict(X_test)\n",
    "\n",
    "# finding number of coef. used\n",
    "a=[]\n",
    "for i in lasso00001.coef_ :\n",
    "    if(i!=0):\n",
    "        a.append(i)\n",
    "print(a)\n",
    "print('number of coef. used: ', len(a))\n",
    "\n",
    "\n",
    "# Checking the score of lasso model \n",
    "\n",
    "train_score00001=lasso00001.score(X_train,y_train)\n",
    "test_score00001=lasso00001.score(X_test,y_test)\n",
    "coeff_used00001 = np.sum(lasso00001.coef_!=0)\n",
    "\n",
    "# printing the score of lasso model\n",
    "\n",
    "from sklearn.metrics import mean_squared_error\n",
    "mse = mean_squared_error(y_test, y_pred)\n",
    "rmse = np.sqrt(mse)\n",
    "print('Rmse for alpha=0.0001 : ', rmse)\n",
    "\n",
    "\n",
    "print((\"training score for alpha=0.0001:\"), train_score00001)\n",
    "print((\"test score for alpha =0.0001: \"), test_score00001)\n",
    "print((\"number of features used: for alpha =0.0001:\"), coeff_used00001)"
   ]
  },
  {
   "cell_type": "code",
   "execution_count": 142,
   "metadata": {},
   "outputs": [
    {
     "name": "stdout",
     "output_type": "stream",
     "text": [
      "LR training score: 0.18695923172379214\n",
      "LR test score:  0.1392047765397567\n",
      "Rmse :  25.178590208335883\n"
     ]
    }
   ],
   "source": [
    "## Building a linear regression model out of the same dataset.\n",
    "\n",
    "lr = LinearRegression()\n",
    "lr.fit(X_train,y_train)\n",
    "lr_train_score=lr.score(X_train,y_train)\n",
    "lr_test_score=lr.score(X_test,y_test)\n",
    "\n",
    "print((\"LR training score:\"), lr_train_score )\n",
    "print((\"LR test score: \"), lr_test_score)\n",
    "\n",
    "from sklearn.metrics import mean_squared_error\n",
    "mse = mean_squared_error(y_test, y_pred)\n",
    "rmse = np.sqrt(mse)\n",
    "print('Rmse : ', rmse)"
   ]
  },
  {
   "cell_type": "code",
   "execution_count": 162,
   "metadata": {},
   "outputs": [
    {
     "name": "stdout",
     "output_type": "stream",
     "text": [
      "Rmse:  24.48627064011984\n",
      "R2_score:  0.22122039913939429\n"
     ]
    }
   ],
   "source": [
    "## Let's try polynomial features.\n",
    "\n",
    "from sklearn.preprocessing import PolynomialFeatures\n",
    "from sklearn.metrics import mean_squared_error, r2_score\n",
    "\n",
    "polynomial_features= PolynomialFeatures(degree=2)\n",
    "x_poly = polynomial_features.fit_transform(X)\n",
    "\n",
    "model = LinearRegression()\n",
    "model.fit(x_poly, y)\n",
    "y_poly_pred = model.predict(x_poly)\n",
    "\n",
    "rmse = np.sqrt(mean_squared_error(y,y_poly_pred))\n",
    "r2 = r2_score(y,y_poly_pred)\n",
    "print('Rmse: ',rmse)\n",
    "print('R2_score: ',r2)"
   ]
  },
  {
   "cell_type": "code",
   "execution_count": 164,
   "metadata": {},
   "outputs": [
    {
     "name": "stdout",
     "output_type": "stream",
     "text": [
      "Rmse:  5.435463881949925e+19\n"
     ]
    }
   ],
   "source": [
    "# We can  try gradient Descent regressor also. In order to check whether we are able to reduce the rmse or not.\n",
    "\n",
    "from sklearn.linear_model import SGDRegressor\n",
    "\n",
    "from sklearn.model_selection import train_test_split\n",
    "X_train, X_test , y_train, y_test = train_test_split(X,y, test_size = 0.30, random_state = 1)\n",
    "\n",
    "model = SGDRegressor(alpha=0.001,max_iter=30,)\n",
    "model.fit(X_train, y_train)\n",
    "y_pred = model.predict(X_test)\n",
    "\n",
    "rmse = np.sqrt(mean_squared_error(y_test,y_pred))\n",
    "print('Rmse: ',rmse)"
   ]
  },
  {
   "cell_type": "code",
   "execution_count": null,
   "metadata": {},
   "outputs": [],
   "source": []
  }
 ],
 "metadata": {
  "kernelspec": {
   "display_name": "Python 3",
   "language": "python",
   "name": "python3"
  },
  "language_info": {
   "codemirror_mode": {
    "name": "ipython",
    "version": 3
   },
   "file_extension": ".py",
   "mimetype": "text/x-python",
   "name": "python",
   "nbconvert_exporter": "python",
   "pygments_lexer": "ipython3",
   "version": "3.8.5"
  }
 },
 "nbformat": 4,
 "nbformat_minor": 4
}
